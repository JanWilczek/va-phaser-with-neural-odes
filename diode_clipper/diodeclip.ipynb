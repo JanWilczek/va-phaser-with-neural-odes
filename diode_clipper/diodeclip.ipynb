{
 "cells": [
  {
   "cell_type": "code",
   "execution_count": null,
   "metadata": {},
   "outputs": [],
   "source": [
    "import torch\n",
    "from torch import nn"
   ]
  },
  {
   "cell_type": "code",
   "execution_count": null,
   "metadata": {},
   "outputs": [],
   "source": [
    "from CoreAudioML.dataset import DataSet\n",
    "\n",
    "dataset = DataSet(data_dir='./')\n",
    "dataset.create_subset('train', frame_len=44100)\n",
    "dataset.create_subset('test')\n",
    "dataset.load_file('diodeclip', set_names=['train', 'test'], splits=[0.79, 0.21])"
   ]
  },
  {
   "cell_type": "code",
   "execution_count": null,
   "metadata": {},
   "outputs": [],
   "source": [
    "# segment_length segments_count=batch_count features_count(1 sample)\n",
    "print(dataset.subsets['train'].data['input'][0].shape)\n",
    "print(dataset.subsets['train'].data['target'][0].shape)\n",
    "print(dataset.subsets['test'].data['input'][0].shape)\n",
    "print(dataset.subsets['test'].data['target'][0].shape)"
   ]
  },
  {
   "cell_type": "code",
   "execution_count": null,
   "metadata": {},
   "outputs": [],
   "source": [
    "class StateTrajectoryNetworkFF(nn.Module):\n",
    "    def __init__(self):\n",
    "        super().__init__()\n",
    "        self.densely_connected_layers = nn.Sequential(nn.Linear(2, 8, bias=False), nn.Tanh(), nn.Linear(8, 8, bias=False), nn.Tanh(), nn.Linear(8, 1, bias=False))\n",
    "\n",
    "    def forward(self, x):\n",
    "        dense_output = self.densely_connected_layers(x)\n",
    "        output = dense_output[..., 0] + x[..., 1]\n",
    "        return output.unsqueeze(-1)\n",
    "\n",
    "# stn = StateTrajectoryNetworkFF()"
   ]
  },
  {
   "cell_type": "code",
   "execution_count": null,
   "metadata": {},
   "outputs": [],
   "source": [
    "# No teacher forcing as for now\n",
    "class StateTrajectoryNetwork(nn.Module):\n",
    "    def __init__(self, is_trained=False):\n",
    "        super().__init__()\n",
    "        self.rnn = torch.nn.RNN(input_size=1, hidden_size=1, num_layers=2, nonlinearity='tanh', bias=False)\n",
    "        self.hidden = None\n",
    "\n",
    "    def forward(self, x):\n",
    "        out, self.hidden = self.rnn(x, self.hidden)\n",
    "        print(x.shape)\n",
    "        print(out.shape)\n",
    "        print(self.hidden.shape)\n",
    "        return out + x\n",
    "\n",
    "    def initialize_state(self, batch_size, state_size):\n",
    "        self.state = torch.zeros((batch_size, state_size))\n",
    "\n",
    "stn = StateTrajectoryNetwork()"
   ]
  },
  {
   "cell_type": "code",
   "execution_count": null,
   "metadata": {},
   "outputs": [],
   "source": [
    "device = torch.device(\"cuda:0\" if torch.cuda.is_available() else \"cpu\")\n",
    "print(f'Using {device} for training.')\n",
    "\n",
    "stn.to(device)"
   ]
  },
  {
   "cell_type": "code",
   "execution_count": null,
   "metadata": {},
   "outputs": [],
   "source": [
    "import torch.optim as optim\n",
    "\n",
    "def normalized_mse_loss(output, target):\n",
    "    minimum_value = 1e-5 * torch.ones_like(target)\n",
    "    loss = torch.mean(torch.div((target - output) ** 2, torch.maximum(target ** 2, minimum_value)))\n",
    "    return loss\n",
    "\n",
    "optimizer = optim.Adam(stn.parameters(), lr=0.001)\n",
    "criterion = normalized_mse_loss\n",
    "# criterion = nn.MSELoss()"
   ]
  },
  {
   "cell_type": "code",
   "execution_count": null,
   "metadata": {},
   "outputs": [],
   "source": [
    "print(stn)\n",
    "for param in stn.parameters():\n",
    "    print(type(param), param.size())"
   ]
  },
  {
   "cell_type": "code",
   "execution_count": null,
   "metadata": {
    "tags": []
   },
   "outputs": [],
   "source": [
    "import numpy as np\n",
    "\n",
    "# Training\n",
    "epochs = 100\n",
    "print_loss_every = 200\n",
    "segments_in_a_batch = 40\n",
    "\n",
    "loss_history = torch.zeros((epochs,), device=device)\n",
    "gradient_norm_history = torch.zeros((epochs,), device=device)\n",
    "\n",
    "input_data = dataset.subsets['train'].data['input'][0].to(device)\n",
    "target_data = dataset.subsets['train'].data['target'][0].to(device)\n",
    "\n",
    "segments_count = input_data.shape[1]\n",
    "batch_count = int(np.ceil(segments_count / segments_in_a_batch))\n",
    "\n",
    "segments_order = torch.randperm(batch_count)\n",
    "\n",
    "for epoch in range(epochs):\n",
    "    \n",
    "    running_loss = 0.0\n",
    "\n",
    "    for i in range(batch_count):\n",
    "        minibatch_segment_indices = segments_order[i*segments_in_a_batch:(i+1)*segments_in_a_batch]\n",
    "        input_minibatch = input_data[:, minibatch_segment_indices, :]\n",
    "        target_minibatch = target_data[:, minibatch_segment_indices, :]\n",
    "        \n",
    "        optimizer.zero_grad()\n",
    "\n",
    "        output_minibatch = stn(input_minibatch)\n",
    "\n",
    "        loss = criterion(output_minibatch, target_minibatch)\n",
    "        loss.backward()\n",
    "        optimizer.step()\n",
    "\n",
    "        running_loss += loss.item()\n",
    "        if i % print_loss_every == print_loss_every - 1:\n",
    "            print('[%d, %5d] loss: %.5f; Running loss: %.5f' % (epoch + 1, i + 1, loss.item(), running_loss/print_loss_every))\n",
    "            running_loss = 0.\n",
    "        \n",
    "    loss_history[epoch] = loss.item()\n",
    "    gradient = torch.cat([param.grad.flatten() for param in stn.parameters()])\n",
    "    gradient_norm_history[epoch] = torch.linalg.norm(gradient)\n",
    "\n",
    "print('Finished training.')"
   ]
  },
  {
   "cell_type": "code",
   "execution_count": null,
   "metadata": {},
   "outputs": [],
   "source": [
    "import matplotlib.pyplot as plt\r\n",
    "\r\n",
    "plt.figure()\r\n",
    "plt.plot(loss_history.cpu())\r\n",
    "plt.xlabel('Epochs')\r\n",
    "plt.ylabel('Loss (Normalized MSE)')\r\n",
    "\r\n",
    "plt.figure()\r\n",
    "plt.plot(gradient_norm_history.cpu())\r\n",
    "plt.xlabel('Epochs')\r\n",
    "plt.ylabel('Gradient L2 norm')"
   ]
  },
  {
   "cell_type": "code",
   "execution_count": null,
   "metadata": {},
   "outputs": [],
   "source": [
    "PATH = './diode_clipper_2x8tanhRNN.pth'"
   ]
  },
  {
   "cell_type": "code",
   "execution_count": null,
   "metadata": {},
   "outputs": [],
   "source": [
    "torch.save(stn.state_dict(), PATH)"
   ]
  },
  {
   "cell_type": "code",
   "execution_count": null,
   "metadata": {},
   "outputs": [],
   "source": [
    "stn.load_state_dict(torch.load(PATH))"
   ]
  },
  {
   "cell_type": "code",
   "execution_count": null,
   "metadata": {
    "tags": []
   },
   "outputs": [],
   "source": [
    "from tqdm import tqdm\n",
    "\n",
    "# 1 batch, 1-element sequence, 2 variables (input and state, i.e., previous output)\n",
    "stn = stn.cpu()\n",
    "input_vector = torch.zeros((1, 1, 2), dtype=torch.float)\n",
    "output_vector = torch.zeros((1, 1, 1), dtype=torch.float)\n",
    "test_output = torch.zeros_like(test_input_waveform.to('cpu'))\n",
    "\n",
    "print('Processing test data...')\n",
    "\n",
    "with torch.no_grad():\n",
    "    for i, sample in tqdm(enumerate(test_input_waveform), total=test_input_waveform.shape[0]):\n",
    "        input_vector[0, 0, 0] = sample\n",
    "        input_vector[0, 0, 1] = output_vector[0, 0, 0]\n",
    "\n",
    "        output_vector = stn(input_vector)\n",
    "\n",
    "        test_output[i] = output_vector[0, 0, 0]\n",
    "\n",
    "    test_loss = criterion(test_output, test_target_waveform)\n",
    "    print(f'Test loss: {test_loss:.5f}')"
   ]
  },
  {
   "cell_type": "code",
   "execution_count": null,
   "metadata": {},
   "outputs": [],
   "source": [
    "print_stats(test_output.unsqueeze(0))\n",
    "test_output = torch.clamp(test_output, -1., 1.)\n",
    "print_stats(test_output.unsqueeze(0))\n",
    "torchaudio.save('./test_output.wav', test_output.unsqueeze(0), sample_rate)"
   ]
  },
  {
   "cell_type": "code",
   "execution_count": null,
   "metadata": {},
   "outputs": [],
   "source": []
  }
 ],
 "metadata": {
  "kernelspec": {
   "display_name": "Python 3.8.8 64-bit ('thesis': conda)",
   "name": "python388jvsc74a57bd07202520e04689780010b8e33a8391e84940aa7f9e118594691f5be5443d77aad"
  },
  "language_info": {
   "codemirror_mode": {
    "name": "ipython",
    "version": 3
   },
   "file_extension": ".py",
   "mimetype": "text/x-python",
   "name": "python",
   "nbconvert_exporter": "python",
   "pygments_lexer": "ipython3",
   "version": "3.8.8"
  },
  "metadata": {
   "interpreter": {
    "hash": "7202520e04689780010b8e33a8391e84940aa7f9e118594691f5be5443d77aad"
   }
  }
 },
 "nbformat": 4,
 "nbformat_minor": 2
}
