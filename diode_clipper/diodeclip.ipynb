{
 "metadata": {
  "language_info": {
   "codemirror_mode": {
    "name": "ipython",
    "version": 3
   },
   "file_extension": ".py",
   "mimetype": "text/x-python",
   "name": "python",
   "nbconvert_exporter": "python",
   "pygments_lexer": "ipython3",
   "version": "3.8.8"
  },
  "orig_nbformat": 2,
  "kernelspec": {
   "name": "python388jvsc74a57bd07202520e04689780010b8e33a8391e84940aa7f9e118594691f5be5443d77aad",
   "display_name": "Python 3.8.8 64-bit ('thesis': conda)"
  },
  "metadata": {
   "interpreter": {
    "hash": "7202520e04689780010b8e33a8391e84940aa7f9e118594691f5be5443d77aad"
   }
  }
 },
 "nbformat": 4,
 "nbformat_minor": 2,
 "cells": [
  {
   "cell_type": "code",
   "execution_count": 2,
   "metadata": {},
   "outputs": [],
   "source": [
    "import torch\n",
    "from torch import nn"
   ]
  },
  {
   "cell_type": "code",
   "execution_count": 3,
   "metadata": {},
   "outputs": [
    {
     "output_type": "stream",
     "name": "stdout",
     "text": [
      "1.8.1\n0.8.0a0+e4e171a\n"
     ]
    }
   ],
   "source": [
    "import torchaudio\n",
    "import torchaudio.functional as F\n",
    "import torchaudio.transforms as T\n",
    "\n",
    "print(torch.__version__)\n",
    "print(torchaudio.__version__)"
   ]
  },
  {
   "cell_type": "code",
   "execution_count": 4,
   "metadata": {},
   "outputs": [],
   "source": [
    "input_filepath = './diodeclip-input.wav'\n",
    "target_filepath = './diodeclip-target.wav'\n",
    "input_waveform, sample_rate = torchaudio.load(input_filepath)\n",
    "target_waveform, sample_rate = torchaudio.load(target_filepath)"
   ]
  },
  {
   "cell_type": "code",
   "execution_count": 7,
   "metadata": {},
   "outputs": [
    {
     "output_type": "stream",
     "name": "stdout",
     "text": [
      "----------\n",
      "Source: ./diodeclip-input.wav\n",
      "----------\n",
      " - sample_rate: 44100\n",
      " - num_channels: 1\n",
      " - num_frames: 21123903\n",
      " - bits_per_sample: 16\n",
      " - encoding: PCM_S\n",
      "\n",
      "Shape: (1, 21123903)\n",
      "Dtype: torch.float32\n",
      " - Max:      0.563\n",
      " - Min:     -0.566\n",
      " - Mean:    -0.000\n",
      " - Std Dev:  0.074\n",
      "\n",
      "tensor([[-3.0518e-05, -3.0518e-05, -3.0518e-05,  ..., -1.2207e-04,\n",
      "          9.1553e-05, -1.2207e-04]])\n",
      "\n",
      "----------\n",
      "Source: ./diodeclip-target.wav\n",
      "----------\n",
      " - sample_rate: 44100\n",
      " - num_channels: 1\n",
      " - num_frames: 21123903\n",
      " - bits_per_sample: 16\n",
      " - encoding: PCM_S\n",
      "\n",
      "Shape: (1, 21123903)\n",
      "Dtype: torch.float32\n",
      " - Max:      1.000\n",
      " - Min:     -1.000\n",
      " - Mean:    -0.007\n",
      " - Std Dev:  0.719\n",
      "\n",
      "tensor([[-0.0013, -0.0014, -0.0013,  ..., -0.0008, -0.0002, -0.0011]])\n",
      "\n"
     ]
    }
   ],
   "source": [
    "from audio_utils import play_audio, plot_waveform, print_stats, print_metadata, plot_specgram\n",
    "\n",
    "for filepath in [input_filepath, target_filepath]:\n",
    "    metadata = torchaudio.info(filepath)\n",
    "    print_metadata(metadata, src=filepath)\n",
    "    waveform, _ = torchaudio.load(filepath)\n",
    "    print_stats(waveform)"
   ]
  },
  {
   "cell_type": "code",
   "execution_count": 8,
   "metadata": {},
   "outputs": [
    {
     "output_type": "execute_result",
     "data": {
      "text/plain": [
       "tensor([-0.0006, -0.0011, -0.0008,  ..., -0.0008, -0.0002, -0.0011])"
      ]
     },
     "metadata": {},
     "execution_count": 8
    }
   ],
   "source": [
    "import numpy as np\n",
    "\n",
    "assert input_waveform.shape == target_waveform.shape\n",
    "frames_count = input_waveform.shape[1]\n",
    "train_frames_count = int(0.8 * frames_count)\n",
    "train_input_waveform = input_waveform[0, :train_frames_count]\n",
    "# test_input_waveform = input_waveform[0, train_frames_count:]\n",
    "train_target_waveform = target_waveform[0, :train_frames_count]\n",
    "# test_target_waveform = target_waveform[0, train_frames_count:]\n",
    "# torchaudio.save('./test_target.wav', test_target_waveform.unsqueeze(0), sample_rate)\n",
    "# torchaudio.save('./test_input.wav', test_input_waveform.unsqueeze(0), sample_rate)\n",
    "test_input_waveform, _ = torchaudio.load('./test_input.wav')\n",
    "test_target_waveform, _ = torchaudio.load('./test_target.wav')\n",
    "test_input_waveform.squeeze_(0)\n",
    "test_target_waveform.squeeze_(0)"
   ]
  },
  {
   "cell_type": "code",
   "execution_count": 9,
   "metadata": {},
   "outputs": [],
   "source": [
    "class StateTrajectoryNetworkFF(nn.Module):\n",
    "    def __init__(self, is_trained=False):\n",
    "        super().__init__()\n",
    "        self.densely_connected_layers = nn.Sequential(nn.Linear(2, 8, bias=False), nn.Tanh(), nn.Linear(8, 8, bias=False), nn.Tanh(), nn.Linear(8, 1, bias=False))\n",
    "\n",
    "    def forward(self, x):\n",
    "        dense_output = self.densely_connected_layers(x)\n",
    "        output = dense_output[..., 0] + x[..., 1]\n",
    "        return output.unsqueeze(-1)\n",
    "\n",
    "stn = StateTrajectoryNetworkFF(is_trained=True)"
   ]
  },
  {
   "cell_type": "code",
   "execution_count": 10,
   "metadata": {},
   "outputs": [],
   "source": [
    "class StateTrajectoryNetwork(nn.Module):\n",
    "    def __init__(self, is_trained=False):\n",
    "        super().__init__()\n",
    "        self.densely_connected_layers = nn.Sequential(nn.Linear(2, 8, bias=False), nn.Tanh(), nn.Linear(8, 8, bias=False), nn.Tanh(), nn.Linear(8, 1, bias=False))\n",
    "\n",
    "    def forward(self, x):\n",
    "        output = torch.zeros_like(x)\n",
    "        \n",
    "        for i in range(x.shape[1]):\n",
    "            dense_output = self.densely_connected_layers(x)\n",
    "            output = dense_output[..., 0] + x[..., 1]\n",
    "        return output.unsqueeze(-1)\n",
    "\n",
    "    def initialize_state(self, batch_size, state_size):\n",
    "        self.state = torch.zeros((batch_size, state_size))\n",
    "\n",
    "# stn = StateTrajectoryNetwork()"
   ]
  },
  {
   "cell_type": "code",
   "execution_count": 11,
   "metadata": {},
   "outputs": [
    {
     "output_type": "stream",
     "name": "stdout",
     "text": [
      "Using cuda:0 for training.\n"
     ]
    },
    {
     "output_type": "execute_result",
     "data": {
      "text/plain": [
       "StateTrajectoryNetworkFF(\n",
       "  (densely_connected_layers): Sequential(\n",
       "    (0): Linear(in_features=2, out_features=8, bias=False)\n",
       "    (1): Tanh()\n",
       "    (2): Linear(in_features=8, out_features=8, bias=False)\n",
       "    (3): Tanh()\n",
       "    (4): Linear(in_features=8, out_features=1, bias=False)\n",
       "  )\n",
       ")"
      ]
     },
     "metadata": {},
     "execution_count": 11
    }
   ],
   "source": [
    "device = torch.device(\"cuda:0\" if torch.cuda.is_available() else \"cpu\")\n",
    "print(f'Using {device} for training.')\n",
    "\n",
    "stn.to(device)"
   ]
  },
  {
   "cell_type": "code",
   "execution_count": 12,
   "metadata": {},
   "outputs": [],
   "source": [
    "import torch.optim as optim\n",
    "\n",
    "def normalized_mse_loss(output, target):\n",
    "    minimum_value = 1e-5 * torch.ones_like(target)\n",
    "    loss = torch.mean(torch.div((target - output) ** 2, torch.maximum(target ** 2, minimum_value)))\n",
    "    return loss\n",
    "\n",
    "optimizer = optim.Adam(stn.parameters(), lr=0.001)\n",
    "criterion = normalized_mse_loss\n",
    "# criterion = nn.MSELoss()"
   ]
  },
  {
   "cell_type": "code",
   "execution_count": 13,
   "metadata": {},
   "outputs": [
    {
     "output_type": "stream",
     "name": "stdout",
     "text": [
      "StateTrajectoryNetworkFF(\n  (densely_connected_layers): Sequential(\n    (0): Linear(in_features=2, out_features=8, bias=False)\n    (1): Tanh()\n    (2): Linear(in_features=8, out_features=8, bias=False)\n    (3): Tanh()\n    (4): Linear(in_features=8, out_features=1, bias=False)\n  )\n)\n<class 'torch.nn.parameter.Parameter'> torch.Size([8, 2])\n<class 'torch.nn.parameter.Parameter'> torch.Size([8, 8])\n<class 'torch.nn.parameter.Parameter'> torch.Size([1, 8])\n"
     ]
    }
   ],
   "source": [
    "print(stn)\n",
    "for param in stn.parameters():\n",
    "    print(type(param), param.size())"
   ]
  },
  {
   "cell_type": "code",
   "execution_count": 14,
   "metadata": {},
   "outputs": [
    {
     "output_type": "stream",
     "name": "stdout",
     "text": [
      "1 input minibatch shape: (8251, 2048, 2)\n1 target minibatch shape: (8251, 2048, 1)\n"
     ]
    }
   ],
   "source": [
    "# Data pre-processing\n",
    "sequence_length = 2048\n",
    "segments_count = train_frames_count // sequence_length\n",
    "input_batch = np.zeros((segments_count, sequence_length, 2))\n",
    "target_batch = np.zeros((segments_count, sequence_length, 1))\n",
    "for i in range(segments_count):\n",
    "    start_id = i * sequence_length\n",
    "    end_id = (i + 1) * sequence_length\n",
    "    input_batch[i, :, 0] = train_input_waveform[start_id:end_id]\n",
    "    input_batch[i, 1:, 1] = train_target_waveform[start_id:end_id-1]\n",
    "    target_batch[i, :, 0] = train_target_waveform[start_id:end_id]\n",
    "\n",
    "print(f'1 input minibatch shape: {input_batch.shape}')\n",
    "print(f'1 target minibatch shape: {target_batch.shape}')\n",
    "\n",
    "input_batch = torch.tensor(input_batch, dtype=torch.float, device=device)\n",
    "target_batch = torch.tensor(target_batch, dtype=torch.float, device=device)"
   ]
  },
  {
   "cell_type": "code",
   "execution_count": 15,
   "metadata": {
    "tags": []
   },
   "outputs": [
    {
     "output_type": "stream",
     "name": "stdout",
     "text": [
      "[1,   200] loss: 0.55354; Running loss: 0.78305\n",
      "[2,   200] loss: 0.49549; Running loss: 0.55924\n",
      "[3,   200] loss: 0.41090; Running loss: 0.49677\n",
      "[4,   200] loss: 0.31609; Running loss: 0.40077\n",
      "[5,   200] loss: 0.28525; Running loss: 0.30484\n",
      "[6,   200] loss: 0.30121; Running loss: 0.26342\n",
      "[7,   200] loss: 0.30516; Running loss: 0.25302\n",
      "[8,   200] loss: 0.29446; Running loss: 0.24420\n",
      "[9,   200] loss: 0.27457; Running loss: 0.23120\n",
      "[10,   200] loss: 0.24632; Running loss: 0.21280\n",
      "[11,   200] loss: 0.20991; Running loss: 0.18838\n",
      "[12,   200] loss: 0.16745; Running loss: 0.15880\n",
      "[13,   200] loss: 0.12382; Running loss: 0.12717\n",
      "[14,   200] loss: 0.08519; Running loss: 0.09808\n",
      "[15,   200] loss: 0.05550; Running loss: 0.07524\n",
      "[16,   200] loss: 0.03529; Running loss: 0.05957\n",
      "[17,   200] loss: 0.02287; Running loss: 0.04969\n",
      "[18,   200] loss: 0.01581; Running loss: 0.04357\n",
      "[19,   200] loss: 0.01205; Running loss: 0.03964\n",
      "[20,   200] loss: 0.01023; Running loss: 0.03698\n",
      "[21,   200] loss: 0.00952; Running loss: 0.03513\n",
      "[22,   200] loss: 0.00941; Running loss: 0.03382\n",
      "[23,   200] loss: 0.00962; Running loss: 0.03289\n",
      "[24,   200] loss: 0.00998; Running loss: 0.03221\n",
      "[25,   200] loss: 0.01035; Running loss: 0.03171\n",
      "[26,   200] loss: 0.01069; Running loss: 0.03133\n",
      "[27,   200] loss: 0.01096; Running loss: 0.03101\n",
      "[28,   200] loss: 0.01114; Running loss: 0.03073\n",
      "[29,   200] loss: 0.01122; Running loss: 0.03046\n",
      "[30,   200] loss: 0.01123; Running loss: 0.03021\n",
      "[31,   200] loss: 0.01117; Running loss: 0.02996\n",
      "[32,   200] loss: 0.01105; Running loss: 0.02971\n",
      "[33,   200] loss: 0.01089; Running loss: 0.02946\n",
      "[34,   200] loss: 0.01070; Running loss: 0.02922\n",
      "[35,   200] loss: 0.01050; Running loss: 0.02898\n",
      "[36,   200] loss: 0.01029; Running loss: 0.02875\n",
      "[37,   200] loss: 0.01009; Running loss: 0.02854\n",
      "[38,   200] loss: 0.00988; Running loss: 0.02833\n",
      "[39,   200] loss: 0.00969; Running loss: 0.02814\n",
      "[40,   200] loss: 0.00950; Running loss: 0.02797\n",
      "[41,   200] loss: 0.00933; Running loss: 0.02781\n",
      "[42,   200] loss: 0.00917; Running loss: 0.02766\n",
      "[43,   200] loss: 0.00902; Running loss: 0.02753\n",
      "[44,   200] loss: 0.00888; Running loss: 0.02742\n",
      "[45,   200] loss: 0.00875; Running loss: 0.02731\n",
      "[46,   200] loss: 0.00864; Running loss: 0.02722\n",
      "[47,   200] loss: 0.00853; Running loss: 0.02713\n",
      "[48,   200] loss: 0.00844; Running loss: 0.02705\n",
      "[49,   200] loss: 0.00835; Running loss: 0.02698\n",
      "[50,   200] loss: 0.00827; Running loss: 0.02692\n",
      "[51,   200] loss: 0.00820; Running loss: 0.02686\n",
      "[52,   200] loss: 0.00814; Running loss: 0.02681\n",
      "[53,   200] loss: 0.00808; Running loss: 0.02676\n",
      "[54,   200] loss: 0.00803; Running loss: 0.02671\n",
      "[55,   200] loss: 0.00798; Running loss: 0.02667\n",
      "[56,   200] loss: 0.00793; Running loss: 0.02662\n",
      "[57,   200] loss: 0.00789; Running loss: 0.02659\n",
      "[58,   200] loss: 0.00786; Running loss: 0.02655\n",
      "[59,   200] loss: 0.00782; Running loss: 0.02651\n",
      "[60,   200] loss: 0.00779; Running loss: 0.02648\n",
      "[61,   200] loss: 0.00776; Running loss: 0.02644\n",
      "[62,   200] loss: 0.00773; Running loss: 0.02641\n",
      "[63,   200] loss: 0.00771; Running loss: 0.02638\n",
      "[64,   200] loss: 0.00768; Running loss: 0.02635\n",
      "[65,   200] loss: 0.00766; Running loss: 0.02632\n",
      "[66,   200] loss: 0.00764; Running loss: 0.02629\n",
      "[67,   200] loss: 0.00762; Running loss: 0.02627\n",
      "[68,   200] loss: 0.00760; Running loss: 0.02624\n",
      "[69,   200] loss: 0.00758; Running loss: 0.02621\n",
      "[70,   200] loss: 0.00756; Running loss: 0.02619\n",
      "[71,   200] loss: 0.00755; Running loss: 0.02617\n",
      "[72,   200] loss: 0.00753; Running loss: 0.02614\n",
      "[73,   200] loss: 0.00752; Running loss: 0.02612\n",
      "[74,   200] loss: 0.00750; Running loss: 0.02610\n",
      "[75,   200] loss: 0.00749; Running loss: 0.02608\n",
      "[76,   200] loss: 0.00748; Running loss: 0.02606\n",
      "[77,   200] loss: 0.00746; Running loss: 0.02604\n",
      "[78,   200] loss: 0.00745; Running loss: 0.02602\n",
      "[79,   200] loss: 0.00744; Running loss: 0.02600\n",
      "[80,   200] loss: 0.00743; Running loss: 0.02598\n",
      "[81,   200] loss: 0.00742; Running loss: 0.02596\n",
      "[82,   200] loss: 0.00741; Running loss: 0.02594\n",
      "[83,   200] loss: 0.00739; Running loss: 0.02593\n",
      "[84,   200] loss: 0.00738; Running loss: 0.02591\n",
      "[85,   200] loss: 0.00737; Running loss: 0.02589\n",
      "[86,   200] loss: 0.00736; Running loss: 0.02588\n",
      "[87,   200] loss: 0.00736; Running loss: 0.02586\n",
      "[88,   200] loss: 0.00735; Running loss: 0.02585\n",
      "[89,   200] loss: 0.00734; Running loss: 0.02583\n",
      "[90,   200] loss: 0.00733; Running loss: 0.02582\n",
      "[91,   200] loss: 0.00732; Running loss: 0.02580\n",
      "[92,   200] loss: 0.00731; Running loss: 0.02579\n",
      "[93,   200] loss: 0.00730; Running loss: 0.02578\n",
      "[94,   200] loss: 0.00729; Running loss: 0.02576\n",
      "[95,   200] loss: 0.00729; Running loss: 0.02575\n",
      "[96,   200] loss: 0.00728; Running loss: 0.02574\n",
      "[97,   200] loss: 0.00727; Running loss: 0.02573\n",
      "[98,   200] loss: 0.00726; Running loss: 0.02571\n",
      "[99,   200] loss: 0.00725; Running loss: 0.02570\n",
      "[100,   200] loss: 0.00725; Running loss: 0.02569\n",
      "[101,   200] loss: 0.00724; Running loss: 0.02568\n",
      "[102,   200] loss: 0.00723; Running loss: 0.02567\n",
      "[103,   200] loss: 0.00722; Running loss: 0.02566\n",
      "[104,   200] loss: 0.00722; Running loss: 0.02565\n",
      "[105,   200] loss: 0.00721; Running loss: 0.02563\n",
      "[106,   200] loss: 0.00720; Running loss: 0.02562\n",
      "[107,   200] loss: 0.00719; Running loss: 0.02561\n",
      "[108,   200] loss: 0.00719; Running loss: 0.02560\n",
      "[109,   200] loss: 0.00718; Running loss: 0.02559\n",
      "[110,   200] loss: 0.00717; Running loss: 0.02558\n",
      "[111,   200] loss: 0.00716; Running loss: 0.02557\n",
      "[112,   200] loss: 0.00716; Running loss: 0.02556\n",
      "[113,   200] loss: 0.00715; Running loss: 0.02555\n",
      "[114,   200] loss: 0.00714; Running loss: 0.02554\n",
      "[115,   200] loss: 0.00714; Running loss: 0.02553\n",
      "[116,   200] loss: 0.00713; Running loss: 0.02552\n",
      "[117,   200] loss: 0.00712; Running loss: 0.02551\n",
      "[118,   200] loss: 0.00712; Running loss: 0.02550\n",
      "[119,   200] loss: 0.00711; Running loss: 0.02549\n",
      "[120,   200] loss: 0.00710; Running loss: 0.02548\n",
      "[121,   200] loss: 0.00710; Running loss: 0.02547\n",
      "[122,   200] loss: 0.00709; Running loss: 0.02546\n",
      "[123,   200] loss: 0.00708; Running loss: 0.02545\n",
      "[124,   200] loss: 0.00708; Running loss: 0.02544\n",
      "[125,   200] loss: 0.00707; Running loss: 0.02544\n",
      "[126,   200] loss: 0.00707; Running loss: 0.02543\n",
      "[127,   200] loss: 0.00706; Running loss: 0.02542\n",
      "[128,   200] loss: 0.00706; Running loss: 0.02541\n",
      "[129,   200] loss: 0.00705; Running loss: 0.02540\n",
      "[130,   200] loss: 0.00705; Running loss: 0.02540\n",
      "[131,   200] loss: 0.00704; Running loss: 0.02539\n",
      "[132,   200] loss: 0.00704; Running loss: 0.02538\n",
      "[133,   200] loss: 0.00703; Running loss: 0.02537\n",
      "[134,   200] loss: 0.00703; Running loss: 0.02537\n",
      "[135,   200] loss: 0.00702; Running loss: 0.02536\n",
      "[136,   200] loss: 0.00702; Running loss: 0.02535\n",
      "[137,   200] loss: 0.00702; Running loss: 0.02535\n",
      "[138,   200] loss: 0.00701; Running loss: 0.02534\n",
      "[139,   200] loss: 0.00701; Running loss: 0.02533\n",
      "[140,   200] loss: 0.00700; Running loss: 0.02533\n",
      "[141,   200] loss: 0.00700; Running loss: 0.02532\n",
      "[142,   200] loss: 0.00700; Running loss: 0.02531\n",
      "[143,   200] loss: 0.00699; Running loss: 0.02531\n",
      "[144,   200] loss: 0.00699; Running loss: 0.02530\n",
      "[145,   200] loss: 0.00698; Running loss: 0.02530\n",
      "[146,   200] loss: 0.00698; Running loss: 0.02529\n",
      "[147,   200] loss: 0.00698; Running loss: 0.02528\n",
      "[148,   200] loss: 0.00697; Running loss: 0.02528\n",
      "[149,   200] loss: 0.00697; Running loss: 0.02527\n",
      "[150,   200] loss: 0.00696; Running loss: 0.02527\n",
      "[151,   200] loss: 0.00696; Running loss: 0.02526\n",
      "[152,   200] loss: 0.00696; Running loss: 0.02526\n",
      "[153,   200] loss: 0.00695; Running loss: 0.02525\n",
      "[154,   200] loss: 0.00695; Running loss: 0.02525\n",
      "[155,   200] loss: 0.00695; Running loss: 0.02524\n",
      "[156,   200] loss: 0.00694; Running loss: 0.02524\n",
      "[157,   200] loss: 0.00694; Running loss: 0.02523\n",
      "[158,   200] loss: 0.00694; Running loss: 0.02523\n",
      "[159,   200] loss: 0.00693; Running loss: 0.02522\n",
      "[160,   200] loss: 0.00693; Running loss: 0.02522\n",
      "[161,   200] loss: 0.00693; Running loss: 0.02521\n",
      "[162,   200] loss: 0.00692; Running loss: 0.02521\n",
      "[163,   200] loss: 0.00692; Running loss: 0.02520\n",
      "[164,   200] loss: 0.00692; Running loss: 0.02520\n",
      "[165,   200] loss: 0.00691; Running loss: 0.02519\n",
      "[166,   200] loss: 0.00691; Running loss: 0.02519\n",
      "[167,   200] loss: 0.00691; Running loss: 0.02518\n",
      "[168,   200] loss: 0.00690; Running loss: 0.02518\n",
      "[169,   200] loss: 0.00690; Running loss: 0.02517\n",
      "[170,   200] loss: 0.00690; Running loss: 0.02517\n",
      "[171,   200] loss: 0.00689; Running loss: 0.02517\n",
      "[172,   200] loss: 0.00689; Running loss: 0.02516\n",
      "[173,   200] loss: 0.00689; Running loss: 0.02516\n",
      "[174,   200] loss: 0.00688; Running loss: 0.02515\n",
      "[175,   200] loss: 0.00688; Running loss: 0.02515\n",
      "[176,   200] loss: 0.00688; Running loss: 0.02514\n",
      "[177,   200] loss: 0.00688; Running loss: 0.02514\n",
      "[178,   200] loss: 0.00687; Running loss: 0.02514\n",
      "[179,   200] loss: 0.00687; Running loss: 0.02513\n",
      "[180,   200] loss: 0.00687; Running loss: 0.02513\n",
      "[181,   200] loss: 0.00687; Running loss: 0.02512\n",
      "[182,   200] loss: 0.00686; Running loss: 0.02512\n",
      "[183,   200] loss: 0.00686; Running loss: 0.02512\n",
      "[184,   200] loss: 0.00686; Running loss: 0.02511\n",
      "[185,   200] loss: 0.00686; Running loss: 0.02511\n",
      "[186,   200] loss: 0.00685; Running loss: 0.02510\n",
      "[187,   200] loss: 0.00685; Running loss: 0.02510\n",
      "[188,   200] loss: 0.00685; Running loss: 0.02510\n",
      "[189,   200] loss: 0.00684; Running loss: 0.02509\n",
      "[190,   200] loss: 0.00684; Running loss: 0.02509\n",
      "[191,   200] loss: 0.00684; Running loss: 0.02508\n",
      "[192,   200] loss: 0.00684; Running loss: 0.02508\n",
      "[193,   200] loss: 0.00684; Running loss: 0.02508\n",
      "[194,   200] loss: 0.00683; Running loss: 0.02507\n",
      "[195,   200] loss: 0.00683; Running loss: 0.02507\n",
      "[196,   200] loss: 0.00683; Running loss: 0.02507\n",
      "[197,   200] loss: 0.00683; Running loss: 0.02506\n",
      "[198,   200] loss: 0.00682; Running loss: 0.02506\n",
      "[199,   200] loss: 0.00682; Running loss: 0.02506\n",
      "[200,   200] loss: 0.00682; Running loss: 0.02505\n",
      "Finished training.\n"
     ]
    }
   ],
   "source": [
    "# Training\n",
    "epochs = 200\n",
    "print_loss_every = 200\n",
    "segments_in_a_batch = 40\n",
    "batch_count = segments_count // segments_in_a_batch\n",
    "\n",
    "loss_history = torch.zeros((epochs,), device=device)\n",
    "gradient_norm_history = torch.zeros((epochs,), device=device)\n",
    "\n",
    "for epoch in range(epochs):\n",
    "    \n",
    "    running_loss = 0.0\n",
    "\n",
    "    for i in range(batch_count):\n",
    "        input_minibatch = input_batch[i*segments_in_a_batch:(i+1)*segments_in_a_batch, :, :]\n",
    "        target_minibatch = target_batch[i*segments_in_a_batch:(i+1)*segments_in_a_batch, :, :]\n",
    "        \n",
    "        optimizer.zero_grad()\n",
    "\n",
    "        output_minibatch = stn(input_minibatch)\n",
    "\n",
    "        loss = criterion(output_minibatch, target_minibatch)\n",
    "        loss.backward()\n",
    "        optimizer.step()\n",
    "\n",
    "        running_loss += loss.item()\n",
    "        if i % print_loss_every == print_loss_every - 1:\n",
    "            print('[%d, %5d] loss: %.5f; Running loss: %.5f' % (epoch + 1, i + 1, loss.item(), running_loss/print_loss_every))\n",
    "            running_loss = 0.\n",
    "        \n",
    "    loss_history[epoch] = loss.item()\n",
    "    gradient = torch.cat([param.grad.flatten() for param in stn.parameters()])\n",
    "    gradient_norm_history[epoch] = torch.linalg.norm(gradient)\n",
    "\n",
    "print('Finished training.')"
   ]
  },
  {
   "cell_type": "code",
   "execution_count": 16,
   "metadata": {},
   "outputs": [
    {
     "output_type": "execute_result",
     "data": {
      "text/plain": [
       "Text(0, 0.5, 'Gradient L2 norm')"
      ]
     },
     "metadata": {},
     "execution_count": 16
    },
    {
     "output_type": "display_data",
     "data": {
      "text/plain": "<Figure size 1080x288 with 1 Axes>",
      "image/svg+xml": "<?xml version=\"1.0\" encoding=\"utf-8\" standalone=\"no\"?>\n<!DOCTYPE svg PUBLIC \"-//W3C//DTD SVG 1.1//EN\"\n  \"http://www.w3.org/Graphics/SVG/1.1/DTD/svg11.dtd\">\n<svg height=\"262.19625pt\" version=\"1.1\" viewBox=\"0 0 887.98125 262.19625\" width=\"887.98125pt\" xmlns=\"http://www.w3.org/2000/svg\" xmlns:xlink=\"http://www.w3.org/1999/xlink\">\n <metadata>\n  <rdf:RDF xmlns:cc=\"http://creativecommons.org/ns#\" xmlns:dc=\"http://purl.org/dc/elements/1.1/\" xmlns:rdf=\"http://www.w3.org/1999/02/22-rdf-syntax-ns#\">\n   <cc:Work>\n    <dc:type rdf:resource=\"http://purl.org/dc/dcmitype/StillImage\"/>\n    <dc:date>2021-04-27T19:50:21.456474</dc:date>\n    <dc:format>image/svg+xml</dc:format>\n    <dc:creator>\n     <cc:Agent>\n      <dc:title>Matplotlib v3.4.1, https://matplotlib.org/</dc:title>\n     </cc:Agent>\n    </dc:creator>\n   </cc:Work>\n  </rdf:RDF>\n </metadata>\n <defs>\n  <style type=\"text/css\">*{stroke-linecap:butt;stroke-linejoin:round;}</style>\n </defs>\n <g id=\"figure_1\">\n  <g id=\"patch_1\">\n   <path d=\"M 0 262.19625 \nL 887.98125 262.19625 \nL 887.98125 0 \nL 0 0 \nz\n\" style=\"fill:none;\"/>\n  </g>\n  <g id=\"axes_1\">\n   <g id=\"patch_2\">\n    <path d=\"M 43.78125 224.64 \nL 880.78125 224.64 \nL 880.78125 7.2 \nL 43.78125 7.2 \nz\n\" style=\"fill:#ffffff;\"/>\n   </g>\n   <g id=\"matplotlib.axis_1\">\n    <g id=\"xtick_1\">\n     <g id=\"line2d_1\">\n      <defs>\n       <path d=\"M 0 0 \nL 0 3.5 \n\" id=\"me29fdc0b20\" style=\"stroke:#000000;stroke-width:0.8;\"/>\n      </defs>\n      <g>\n       <use style=\"stroke:#000000;stroke-width:0.8;\" x=\"81.826705\" xlink:href=\"#me29fdc0b20\" y=\"224.64\"/>\n      </g>\n     </g>\n     <g id=\"text_1\">\n      <!-- 0 -->\n      <g transform=\"translate(78.645455 239.238437)scale(0.1 -0.1)\">\n       <defs>\n        <path d=\"M 2034 4250 \nQ 1547 4250 1301 3770 \nQ 1056 3291 1056 2328 \nQ 1056 1369 1301 889 \nQ 1547 409 2034 409 \nQ 2525 409 2770 889 \nQ 3016 1369 3016 2328 \nQ 3016 3291 2770 3770 \nQ 2525 4250 2034 4250 \nz\nM 2034 4750 \nQ 2819 4750 3233 4129 \nQ 3647 3509 3647 2328 \nQ 3647 1150 3233 529 \nQ 2819 -91 2034 -91 \nQ 1250 -91 836 529 \nQ 422 1150 422 2328 \nQ 422 3509 836 4129 \nQ 1250 4750 2034 4750 \nz\n\" id=\"DejaVuSans-30\" transform=\"scale(0.015625)\"/>\n       </defs>\n       <use xlink:href=\"#DejaVuSans-30\"/>\n      </g>\n     </g>\n    </g>\n    <g id=\"xtick_2\">\n     <g id=\"line2d_2\">\n      <g>\n       <use style=\"stroke:#000000;stroke-width:0.8;\" x=\"177.418299\" xlink:href=\"#me29fdc0b20\" y=\"224.64\"/>\n      </g>\n     </g>\n     <g id=\"text_2\">\n      <!-- 25 -->\n      <g transform=\"translate(171.055799 239.238437)scale(0.1 -0.1)\">\n       <defs>\n        <path d=\"M 1228 531 \nL 3431 531 \nL 3431 0 \nL 469 0 \nL 469 531 \nQ 828 903 1448 1529 \nQ 2069 2156 2228 2338 \nQ 2531 2678 2651 2914 \nQ 2772 3150 2772 3378 \nQ 2772 3750 2511 3984 \nQ 2250 4219 1831 4219 \nQ 1534 4219 1204 4116 \nQ 875 4013 500 3803 \nL 500 4441 \nQ 881 4594 1212 4672 \nQ 1544 4750 1819 4750 \nQ 2544 4750 2975 4387 \nQ 3406 4025 3406 3419 \nQ 3406 3131 3298 2873 \nQ 3191 2616 2906 2266 \nQ 2828 2175 2409 1742 \nQ 1991 1309 1228 531 \nz\n\" id=\"DejaVuSans-32\" transform=\"scale(0.015625)\"/>\n        <path d=\"M 691 4666 \nL 3169 4666 \nL 3169 4134 \nL 1269 4134 \nL 1269 2991 \nQ 1406 3038 1543 3061 \nQ 1681 3084 1819 3084 \nQ 2600 3084 3056 2656 \nQ 3513 2228 3513 1497 \nQ 3513 744 3044 326 \nQ 2575 -91 1722 -91 \nQ 1428 -91 1123 -41 \nQ 819 9 494 109 \nL 494 744 \nQ 775 591 1075 516 \nQ 1375 441 1709 441 \nQ 2250 441 2565 725 \nQ 2881 1009 2881 1497 \nQ 2881 1984 2565 2268 \nQ 2250 2553 1709 2553 \nQ 1456 2553 1204 2497 \nQ 953 2441 691 2322 \nL 691 4666 \nz\n\" id=\"DejaVuSans-35\" transform=\"scale(0.015625)\"/>\n       </defs>\n       <use xlink:href=\"#DejaVuSans-32\"/>\n       <use x=\"63.623047\" xlink:href=\"#DejaVuSans-35\"/>\n      </g>\n     </g>\n    </g>\n    <g id=\"xtick_3\">\n     <g id=\"line2d_3\">\n      <g>\n       <use style=\"stroke:#000000;stroke-width:0.8;\" x=\"273.009893\" xlink:href=\"#me29fdc0b20\" y=\"224.64\"/>\n      </g>\n     </g>\n     <g id=\"text_3\">\n      <!-- 50 -->\n      <g transform=\"translate(266.647393 239.238437)scale(0.1 -0.1)\">\n       <use xlink:href=\"#DejaVuSans-35\"/>\n       <use x=\"63.623047\" xlink:href=\"#DejaVuSans-30\"/>\n      </g>\n     </g>\n    </g>\n    <g id=\"xtick_4\">\n     <g id=\"line2d_4\">\n      <g>\n       <use style=\"stroke:#000000;stroke-width:0.8;\" x=\"368.601488\" xlink:href=\"#me29fdc0b20\" y=\"224.64\"/>\n      </g>\n     </g>\n     <g id=\"text_4\">\n      <!-- 75 -->\n      <g transform=\"translate(362.238988 239.238437)scale(0.1 -0.1)\">\n       <defs>\n        <path d=\"M 525 4666 \nL 3525 4666 \nL 3525 4397 \nL 1831 0 \nL 1172 0 \nL 2766 4134 \nL 525 4134 \nL 525 4666 \nz\n\" id=\"DejaVuSans-37\" transform=\"scale(0.015625)\"/>\n       </defs>\n       <use xlink:href=\"#DejaVuSans-37\"/>\n       <use x=\"63.623047\" xlink:href=\"#DejaVuSans-35\"/>\n      </g>\n     </g>\n    </g>\n    <g id=\"xtick_5\">\n     <g id=\"line2d_5\">\n      <g>\n       <use style=\"stroke:#000000;stroke-width:0.8;\" x=\"464.193082\" xlink:href=\"#me29fdc0b20\" y=\"224.64\"/>\n      </g>\n     </g>\n     <g id=\"text_5\">\n      <!-- 100 -->\n      <g transform=\"translate(454.649332 239.238437)scale(0.1 -0.1)\">\n       <defs>\n        <path d=\"M 794 531 \nL 1825 531 \nL 1825 4091 \nL 703 3866 \nL 703 4441 \nL 1819 4666 \nL 2450 4666 \nL 2450 531 \nL 3481 531 \nL 3481 0 \nL 794 0 \nL 794 531 \nz\n\" id=\"DejaVuSans-31\" transform=\"scale(0.015625)\"/>\n       </defs>\n       <use xlink:href=\"#DejaVuSans-31\"/>\n       <use x=\"63.623047\" xlink:href=\"#DejaVuSans-30\"/>\n       <use x=\"127.246094\" xlink:href=\"#DejaVuSans-30\"/>\n      </g>\n     </g>\n    </g>\n    <g id=\"xtick_6\">\n     <g id=\"line2d_6\">\n      <g>\n       <use style=\"stroke:#000000;stroke-width:0.8;\" x=\"559.784676\" xlink:href=\"#me29fdc0b20\" y=\"224.64\"/>\n      </g>\n     </g>\n     <g id=\"text_6\">\n      <!-- 125 -->\n      <g transform=\"translate(550.240926 239.238437)scale(0.1 -0.1)\">\n       <use xlink:href=\"#DejaVuSans-31\"/>\n       <use x=\"63.623047\" xlink:href=\"#DejaVuSans-32\"/>\n       <use x=\"127.246094\" xlink:href=\"#DejaVuSans-35\"/>\n      </g>\n     </g>\n    </g>\n    <g id=\"xtick_7\">\n     <g id=\"line2d_7\">\n      <g>\n       <use style=\"stroke:#000000;stroke-width:0.8;\" x=\"655.376271\" xlink:href=\"#me29fdc0b20\" y=\"224.64\"/>\n      </g>\n     </g>\n     <g id=\"text_7\">\n      <!-- 150 -->\n      <g transform=\"translate(645.832521 239.238437)scale(0.1 -0.1)\">\n       <use xlink:href=\"#DejaVuSans-31\"/>\n       <use x=\"63.623047\" xlink:href=\"#DejaVuSans-35\"/>\n       <use x=\"127.246094\" xlink:href=\"#DejaVuSans-30\"/>\n      </g>\n     </g>\n    </g>\n    <g id=\"xtick_8\">\n     <g id=\"line2d_8\">\n      <g>\n       <use style=\"stroke:#000000;stroke-width:0.8;\" x=\"750.967865\" xlink:href=\"#me29fdc0b20\" y=\"224.64\"/>\n      </g>\n     </g>\n     <g id=\"text_8\">\n      <!-- 175 -->\n      <g transform=\"translate(741.424115 239.238437)scale(0.1 -0.1)\">\n       <use xlink:href=\"#DejaVuSans-31\"/>\n       <use x=\"63.623047\" xlink:href=\"#DejaVuSans-37\"/>\n       <use x=\"127.246094\" xlink:href=\"#DejaVuSans-35\"/>\n      </g>\n     </g>\n    </g>\n    <g id=\"xtick_9\">\n     <g id=\"line2d_9\">\n      <g>\n       <use style=\"stroke:#000000;stroke-width:0.8;\" x=\"846.559459\" xlink:href=\"#me29fdc0b20\" y=\"224.64\"/>\n      </g>\n     </g>\n     <g id=\"text_9\">\n      <!-- 200 -->\n      <g transform=\"translate(837.015709 239.238437)scale(0.1 -0.1)\">\n       <use xlink:href=\"#DejaVuSans-32\"/>\n       <use x=\"63.623047\" xlink:href=\"#DejaVuSans-30\"/>\n       <use x=\"127.246094\" xlink:href=\"#DejaVuSans-30\"/>\n      </g>\n     </g>\n    </g>\n    <g id=\"text_10\">\n     <!-- Epochs -->\n     <g transform=\"translate(444.365625 252.916562)scale(0.1 -0.1)\">\n      <defs>\n       <path d=\"M 628 4666 \nL 3578 4666 \nL 3578 4134 \nL 1259 4134 \nL 1259 2753 \nL 3481 2753 \nL 3481 2222 \nL 1259 2222 \nL 1259 531 \nL 3634 531 \nL 3634 0 \nL 628 0 \nL 628 4666 \nz\n\" id=\"DejaVuSans-45\" transform=\"scale(0.015625)\"/>\n       <path d=\"M 1159 525 \nL 1159 -1331 \nL 581 -1331 \nL 581 3500 \nL 1159 3500 \nL 1159 2969 \nQ 1341 3281 1617 3432 \nQ 1894 3584 2278 3584 \nQ 2916 3584 3314 3078 \nQ 3713 2572 3713 1747 \nQ 3713 922 3314 415 \nQ 2916 -91 2278 -91 \nQ 1894 -91 1617 61 \nQ 1341 213 1159 525 \nz\nM 3116 1747 \nQ 3116 2381 2855 2742 \nQ 2594 3103 2138 3103 \nQ 1681 3103 1420 2742 \nQ 1159 2381 1159 1747 \nQ 1159 1113 1420 752 \nQ 1681 391 2138 391 \nQ 2594 391 2855 752 \nQ 3116 1113 3116 1747 \nz\n\" id=\"DejaVuSans-70\" transform=\"scale(0.015625)\"/>\n       <path d=\"M 1959 3097 \nQ 1497 3097 1228 2736 \nQ 959 2375 959 1747 \nQ 959 1119 1226 758 \nQ 1494 397 1959 397 \nQ 2419 397 2687 759 \nQ 2956 1122 2956 1747 \nQ 2956 2369 2687 2733 \nQ 2419 3097 1959 3097 \nz\nM 1959 3584 \nQ 2709 3584 3137 3096 \nQ 3566 2609 3566 1747 \nQ 3566 888 3137 398 \nQ 2709 -91 1959 -91 \nQ 1206 -91 779 398 \nQ 353 888 353 1747 \nQ 353 2609 779 3096 \nQ 1206 3584 1959 3584 \nz\n\" id=\"DejaVuSans-6f\" transform=\"scale(0.015625)\"/>\n       <path d=\"M 3122 3366 \nL 3122 2828 \nQ 2878 2963 2633 3030 \nQ 2388 3097 2138 3097 \nQ 1578 3097 1268 2742 \nQ 959 2388 959 1747 \nQ 959 1106 1268 751 \nQ 1578 397 2138 397 \nQ 2388 397 2633 464 \nQ 2878 531 3122 666 \nL 3122 134 \nQ 2881 22 2623 -34 \nQ 2366 -91 2075 -91 \nQ 1284 -91 818 406 \nQ 353 903 353 1747 \nQ 353 2603 823 3093 \nQ 1294 3584 2113 3584 \nQ 2378 3584 2631 3529 \nQ 2884 3475 3122 3366 \nz\n\" id=\"DejaVuSans-63\" transform=\"scale(0.015625)\"/>\n       <path d=\"M 3513 2113 \nL 3513 0 \nL 2938 0 \nL 2938 2094 \nQ 2938 2591 2744 2837 \nQ 2550 3084 2163 3084 \nQ 1697 3084 1428 2787 \nQ 1159 2491 1159 1978 \nL 1159 0 \nL 581 0 \nL 581 4863 \nL 1159 4863 \nL 1159 2956 \nQ 1366 3272 1645 3428 \nQ 1925 3584 2291 3584 \nQ 2894 3584 3203 3211 \nQ 3513 2838 3513 2113 \nz\n\" id=\"DejaVuSans-68\" transform=\"scale(0.015625)\"/>\n       <path d=\"M 2834 3397 \nL 2834 2853 \nQ 2591 2978 2328 3040 \nQ 2066 3103 1784 3103 \nQ 1356 3103 1142 2972 \nQ 928 2841 928 2578 \nQ 928 2378 1081 2264 \nQ 1234 2150 1697 2047 \nL 1894 2003 \nQ 2506 1872 2764 1633 \nQ 3022 1394 3022 966 \nQ 3022 478 2636 193 \nQ 2250 -91 1575 -91 \nQ 1294 -91 989 -36 \nQ 684 19 347 128 \nL 347 722 \nQ 666 556 975 473 \nQ 1284 391 1588 391 \nQ 1994 391 2212 530 \nQ 2431 669 2431 922 \nQ 2431 1156 2273 1281 \nQ 2116 1406 1581 1522 \nL 1381 1569 \nQ 847 1681 609 1914 \nQ 372 2147 372 2553 \nQ 372 3047 722 3315 \nQ 1072 3584 1716 3584 \nQ 2034 3584 2315 3537 \nQ 2597 3491 2834 3397 \nz\n\" id=\"DejaVuSans-73\" transform=\"scale(0.015625)\"/>\n      </defs>\n      <use xlink:href=\"#DejaVuSans-45\"/>\n      <use x=\"63.183594\" xlink:href=\"#DejaVuSans-70\"/>\n      <use x=\"126.660156\" xlink:href=\"#DejaVuSans-6f\"/>\n      <use x=\"187.841797\" xlink:href=\"#DejaVuSans-63\"/>\n      <use x=\"242.822266\" xlink:href=\"#DejaVuSans-68\"/>\n      <use x=\"306.201172\" xlink:href=\"#DejaVuSans-73\"/>\n     </g>\n    </g>\n   </g>\n   <g id=\"matplotlib.axis_2\">\n    <g id=\"ytick_1\">\n     <g id=\"line2d_10\">\n      <defs>\n       <path d=\"M 0 0 \nL -3.5 0 \n\" id=\"m8d236961a6\" style=\"stroke:#000000;stroke-width:0.8;\"/>\n      </defs>\n      <g>\n       <use style=\"stroke:#000000;stroke-width:0.8;\" x=\"43.78125\" xlink:href=\"#m8d236961a6\" y=\"216.97688\"/>\n      </g>\n     </g>\n     <g id=\"text_11\">\n      <!-- 0.0 -->\n      <g transform=\"translate(20.878125 220.776098)scale(0.1 -0.1)\">\n       <defs>\n        <path d=\"M 684 794 \nL 1344 794 \nL 1344 0 \nL 684 0 \nL 684 794 \nz\n\" id=\"DejaVuSans-2e\" transform=\"scale(0.015625)\"/>\n       </defs>\n       <use xlink:href=\"#DejaVuSans-30\"/>\n       <use x=\"63.623047\" xlink:href=\"#DejaVuSans-2e\"/>\n       <use x=\"95.410156\" xlink:href=\"#DejaVuSans-30\"/>\n      </g>\n     </g>\n    </g>\n    <g id=\"ytick_2\">\n     <g id=\"line2d_11\">\n      <g>\n       <use style=\"stroke:#000000;stroke-width:0.8;\" x=\"43.78125\" xlink:href=\"#m8d236961a6\" y=\"179.355416\"/>\n      </g>\n     </g>\n     <g id=\"text_12\">\n      <!-- 0.1 -->\n      <g transform=\"translate(20.878125 183.154635)scale(0.1 -0.1)\">\n       <use xlink:href=\"#DejaVuSans-30\"/>\n       <use x=\"63.623047\" xlink:href=\"#DejaVuSans-2e\"/>\n       <use x=\"95.410156\" xlink:href=\"#DejaVuSans-31\"/>\n      </g>\n     </g>\n    </g>\n    <g id=\"ytick_3\">\n     <g id=\"line2d_12\">\n      <g>\n       <use style=\"stroke:#000000;stroke-width:0.8;\" x=\"43.78125\" xlink:href=\"#m8d236961a6\" y=\"141.733953\"/>\n      </g>\n     </g>\n     <g id=\"text_13\">\n      <!-- 0.2 -->\n      <g transform=\"translate(20.878125 145.533171)scale(0.1 -0.1)\">\n       <use xlink:href=\"#DejaVuSans-30\"/>\n       <use x=\"63.623047\" xlink:href=\"#DejaVuSans-2e\"/>\n       <use x=\"95.410156\" xlink:href=\"#DejaVuSans-32\"/>\n      </g>\n     </g>\n    </g>\n    <g id=\"ytick_4\">\n     <g id=\"line2d_13\">\n      <g>\n       <use style=\"stroke:#000000;stroke-width:0.8;\" x=\"43.78125\" xlink:href=\"#m8d236961a6\" y=\"104.112489\"/>\n      </g>\n     </g>\n     <g id=\"text_14\">\n      <!-- 0.3 -->\n      <g transform=\"translate(20.878125 107.911708)scale(0.1 -0.1)\">\n       <defs>\n        <path d=\"M 2597 2516 \nQ 3050 2419 3304 2112 \nQ 3559 1806 3559 1356 \nQ 3559 666 3084 287 \nQ 2609 -91 1734 -91 \nQ 1441 -91 1130 -33 \nQ 819 25 488 141 \nL 488 750 \nQ 750 597 1062 519 \nQ 1375 441 1716 441 \nQ 2309 441 2620 675 \nQ 2931 909 2931 1356 \nQ 2931 1769 2642 2001 \nQ 2353 2234 1838 2234 \nL 1294 2234 \nL 1294 2753 \nL 1863 2753 \nQ 2328 2753 2575 2939 \nQ 2822 3125 2822 3475 \nQ 2822 3834 2567 4026 \nQ 2313 4219 1838 4219 \nQ 1578 4219 1281 4162 \nQ 984 4106 628 3988 \nL 628 4550 \nQ 988 4650 1302 4700 \nQ 1616 4750 1894 4750 \nQ 2613 4750 3031 4423 \nQ 3450 4097 3450 3541 \nQ 3450 3153 3228 2886 \nQ 3006 2619 2597 2516 \nz\n\" id=\"DejaVuSans-33\" transform=\"scale(0.015625)\"/>\n       </defs>\n       <use xlink:href=\"#DejaVuSans-30\"/>\n       <use x=\"63.623047\" xlink:href=\"#DejaVuSans-2e\"/>\n       <use x=\"95.410156\" xlink:href=\"#DejaVuSans-33\"/>\n      </g>\n     </g>\n    </g>\n    <g id=\"ytick_5\">\n     <g id=\"line2d_14\">\n      <g>\n       <use style=\"stroke:#000000;stroke-width:0.8;\" x=\"43.78125\" xlink:href=\"#m8d236961a6\" y=\"66.491026\"/>\n      </g>\n     </g>\n     <g id=\"text_15\">\n      <!-- 0.4 -->\n      <g transform=\"translate(20.878125 70.290245)scale(0.1 -0.1)\">\n       <defs>\n        <path d=\"M 2419 4116 \nL 825 1625 \nL 2419 1625 \nL 2419 4116 \nz\nM 2253 4666 \nL 3047 4666 \nL 3047 1625 \nL 3713 1625 \nL 3713 1100 \nL 3047 1100 \nL 3047 0 \nL 2419 0 \nL 2419 1100 \nL 313 1100 \nL 313 1709 \nL 2253 4666 \nz\n\" id=\"DejaVuSans-34\" transform=\"scale(0.015625)\"/>\n       </defs>\n       <use xlink:href=\"#DejaVuSans-30\"/>\n       <use x=\"63.623047\" xlink:href=\"#DejaVuSans-2e\"/>\n       <use x=\"95.410156\" xlink:href=\"#DejaVuSans-34\"/>\n      </g>\n     </g>\n    </g>\n    <g id=\"ytick_6\">\n     <g id=\"line2d_15\">\n      <g>\n       <use style=\"stroke:#000000;stroke-width:0.8;\" x=\"43.78125\" xlink:href=\"#m8d236961a6\" y=\"28.869562\"/>\n      </g>\n     </g>\n     <g id=\"text_16\">\n      <!-- 0.5 -->\n      <g transform=\"translate(20.878125 32.668781)scale(0.1 -0.1)\">\n       <use xlink:href=\"#DejaVuSans-30\"/>\n       <use x=\"63.623047\" xlink:href=\"#DejaVuSans-2e\"/>\n       <use x=\"95.410156\" xlink:href=\"#DejaVuSans-35\"/>\n      </g>\n     </g>\n    </g>\n    <g id=\"text_17\">\n     <!-- Loss (Normalized MSE) -->\n     <g transform=\"translate(14.798438 172.97)rotate(-90)scale(0.1 -0.1)\">\n      <defs>\n       <path d=\"M 628 4666 \nL 1259 4666 \nL 1259 531 \nL 3531 531 \nL 3531 0 \nL 628 0 \nL 628 4666 \nz\n\" id=\"DejaVuSans-4c\" transform=\"scale(0.015625)\"/>\n       <path id=\"DejaVuSans-20\" transform=\"scale(0.015625)\"/>\n       <path d=\"M 1984 4856 \nQ 1566 4138 1362 3434 \nQ 1159 2731 1159 2009 \nQ 1159 1288 1364 580 \nQ 1569 -128 1984 -844 \nL 1484 -844 \nQ 1016 -109 783 600 \nQ 550 1309 550 2009 \nQ 550 2706 781 3412 \nQ 1013 4119 1484 4856 \nL 1984 4856 \nz\n\" id=\"DejaVuSans-28\" transform=\"scale(0.015625)\"/>\n       <path d=\"M 628 4666 \nL 1478 4666 \nL 3547 763 \nL 3547 4666 \nL 4159 4666 \nL 4159 0 \nL 3309 0 \nL 1241 3903 \nL 1241 0 \nL 628 0 \nL 628 4666 \nz\n\" id=\"DejaVuSans-4e\" transform=\"scale(0.015625)\"/>\n       <path d=\"M 2631 2963 \nQ 2534 3019 2420 3045 \nQ 2306 3072 2169 3072 \nQ 1681 3072 1420 2755 \nQ 1159 2438 1159 1844 \nL 1159 0 \nL 581 0 \nL 581 3500 \nL 1159 3500 \nL 1159 2956 \nQ 1341 3275 1631 3429 \nQ 1922 3584 2338 3584 \nQ 2397 3584 2469 3576 \nQ 2541 3569 2628 3553 \nL 2631 2963 \nz\n\" id=\"DejaVuSans-72\" transform=\"scale(0.015625)\"/>\n       <path d=\"M 3328 2828 \nQ 3544 3216 3844 3400 \nQ 4144 3584 4550 3584 \nQ 5097 3584 5394 3201 \nQ 5691 2819 5691 2113 \nL 5691 0 \nL 5113 0 \nL 5113 2094 \nQ 5113 2597 4934 2840 \nQ 4756 3084 4391 3084 \nQ 3944 3084 3684 2787 \nQ 3425 2491 3425 1978 \nL 3425 0 \nL 2847 0 \nL 2847 2094 \nQ 2847 2600 2669 2842 \nQ 2491 3084 2119 3084 \nQ 1678 3084 1418 2786 \nQ 1159 2488 1159 1978 \nL 1159 0 \nL 581 0 \nL 581 3500 \nL 1159 3500 \nL 1159 2956 \nQ 1356 3278 1631 3431 \nQ 1906 3584 2284 3584 \nQ 2666 3584 2933 3390 \nQ 3200 3197 3328 2828 \nz\n\" id=\"DejaVuSans-6d\" transform=\"scale(0.015625)\"/>\n       <path d=\"M 2194 1759 \nQ 1497 1759 1228 1600 \nQ 959 1441 959 1056 \nQ 959 750 1161 570 \nQ 1363 391 1709 391 \nQ 2188 391 2477 730 \nQ 2766 1069 2766 1631 \nL 2766 1759 \nL 2194 1759 \nz\nM 3341 1997 \nL 3341 0 \nL 2766 0 \nL 2766 531 \nQ 2569 213 2275 61 \nQ 1981 -91 1556 -91 \nQ 1019 -91 701 211 \nQ 384 513 384 1019 \nQ 384 1609 779 1909 \nQ 1175 2209 1959 2209 \nL 2766 2209 \nL 2766 2266 \nQ 2766 2663 2505 2880 \nQ 2244 3097 1772 3097 \nQ 1472 3097 1187 3025 \nQ 903 2953 641 2809 \nL 641 3341 \nQ 956 3463 1253 3523 \nQ 1550 3584 1831 3584 \nQ 2591 3584 2966 3190 \nQ 3341 2797 3341 1997 \nz\n\" id=\"DejaVuSans-61\" transform=\"scale(0.015625)\"/>\n       <path d=\"M 603 4863 \nL 1178 4863 \nL 1178 0 \nL 603 0 \nL 603 4863 \nz\n\" id=\"DejaVuSans-6c\" transform=\"scale(0.015625)\"/>\n       <path d=\"M 603 3500 \nL 1178 3500 \nL 1178 0 \nL 603 0 \nL 603 3500 \nz\nM 603 4863 \nL 1178 4863 \nL 1178 4134 \nL 603 4134 \nL 603 4863 \nz\n\" id=\"DejaVuSans-69\" transform=\"scale(0.015625)\"/>\n       <path d=\"M 353 3500 \nL 3084 3500 \nL 3084 2975 \nL 922 459 \nL 3084 459 \nL 3084 0 \nL 275 0 \nL 275 525 \nL 2438 3041 \nL 353 3041 \nL 353 3500 \nz\n\" id=\"DejaVuSans-7a\" transform=\"scale(0.015625)\"/>\n       <path d=\"M 3597 1894 \nL 3597 1613 \nL 953 1613 \nQ 991 1019 1311 708 \nQ 1631 397 2203 397 \nQ 2534 397 2845 478 \nQ 3156 559 3463 722 \nL 3463 178 \nQ 3153 47 2828 -22 \nQ 2503 -91 2169 -91 \nQ 1331 -91 842 396 \nQ 353 884 353 1716 \nQ 353 2575 817 3079 \nQ 1281 3584 2069 3584 \nQ 2775 3584 3186 3129 \nQ 3597 2675 3597 1894 \nz\nM 3022 2063 \nQ 3016 2534 2758 2815 \nQ 2500 3097 2075 3097 \nQ 1594 3097 1305 2825 \nQ 1016 2553 972 2059 \nL 3022 2063 \nz\n\" id=\"DejaVuSans-65\" transform=\"scale(0.015625)\"/>\n       <path d=\"M 2906 2969 \nL 2906 4863 \nL 3481 4863 \nL 3481 0 \nL 2906 0 \nL 2906 525 \nQ 2725 213 2448 61 \nQ 2172 -91 1784 -91 \nQ 1150 -91 751 415 \nQ 353 922 353 1747 \nQ 353 2572 751 3078 \nQ 1150 3584 1784 3584 \nQ 2172 3584 2448 3432 \nQ 2725 3281 2906 2969 \nz\nM 947 1747 \nQ 947 1113 1208 752 \nQ 1469 391 1925 391 \nQ 2381 391 2643 752 \nQ 2906 1113 2906 1747 \nQ 2906 2381 2643 2742 \nQ 2381 3103 1925 3103 \nQ 1469 3103 1208 2742 \nQ 947 2381 947 1747 \nz\n\" id=\"DejaVuSans-64\" transform=\"scale(0.015625)\"/>\n       <path d=\"M 628 4666 \nL 1569 4666 \nL 2759 1491 \nL 3956 4666 \nL 4897 4666 \nL 4897 0 \nL 4281 0 \nL 4281 4097 \nL 3078 897 \nL 2444 897 \nL 1241 4097 \nL 1241 0 \nL 628 0 \nL 628 4666 \nz\n\" id=\"DejaVuSans-4d\" transform=\"scale(0.015625)\"/>\n       <path d=\"M 3425 4513 \nL 3425 3897 \nQ 3066 4069 2747 4153 \nQ 2428 4238 2131 4238 \nQ 1616 4238 1336 4038 \nQ 1056 3838 1056 3469 \nQ 1056 3159 1242 3001 \nQ 1428 2844 1947 2747 \nL 2328 2669 \nQ 3034 2534 3370 2195 \nQ 3706 1856 3706 1288 \nQ 3706 609 3251 259 \nQ 2797 -91 1919 -91 \nQ 1588 -91 1214 -16 \nQ 841 59 441 206 \nL 441 856 \nQ 825 641 1194 531 \nQ 1563 422 1919 422 \nQ 2459 422 2753 634 \nQ 3047 847 3047 1241 \nQ 3047 1584 2836 1778 \nQ 2625 1972 2144 2069 \nL 1759 2144 \nQ 1053 2284 737 2584 \nQ 422 2884 422 3419 \nQ 422 4038 858 4394 \nQ 1294 4750 2059 4750 \nQ 2388 4750 2728 4690 \nQ 3069 4631 3425 4513 \nz\n\" id=\"DejaVuSans-53\" transform=\"scale(0.015625)\"/>\n       <path d=\"M 513 4856 \nL 1013 4856 \nQ 1481 4119 1714 3412 \nQ 1947 2706 1947 2009 \nQ 1947 1309 1714 600 \nQ 1481 -109 1013 -844 \nL 513 -844 \nQ 928 -128 1133 580 \nQ 1338 1288 1338 2009 \nQ 1338 2731 1133 3434 \nQ 928 4138 513 4856 \nz\n\" id=\"DejaVuSans-29\" transform=\"scale(0.015625)\"/>\n      </defs>\n      <use xlink:href=\"#DejaVuSans-4c\"/>\n      <use x=\"53.962891\" xlink:href=\"#DejaVuSans-6f\"/>\n      <use x=\"115.144531\" xlink:href=\"#DejaVuSans-73\"/>\n      <use x=\"167.244141\" xlink:href=\"#DejaVuSans-73\"/>\n      <use x=\"219.34375\" xlink:href=\"#DejaVuSans-20\"/>\n      <use x=\"251.130859\" xlink:href=\"#DejaVuSans-28\"/>\n      <use x=\"290.144531\" xlink:href=\"#DejaVuSans-4e\"/>\n      <use x=\"364.949219\" xlink:href=\"#DejaVuSans-6f\"/>\n      <use x=\"426.130859\" xlink:href=\"#DejaVuSans-72\"/>\n      <use x=\"465.494141\" xlink:href=\"#DejaVuSans-6d\"/>\n      <use x=\"562.90625\" xlink:href=\"#DejaVuSans-61\"/>\n      <use x=\"624.185547\" xlink:href=\"#DejaVuSans-6c\"/>\n      <use x=\"651.96875\" xlink:href=\"#DejaVuSans-69\"/>\n      <use x=\"679.751953\" xlink:href=\"#DejaVuSans-7a\"/>\n      <use x=\"732.242188\" xlink:href=\"#DejaVuSans-65\"/>\n      <use x=\"793.765625\" xlink:href=\"#DejaVuSans-64\"/>\n      <use x=\"857.242188\" xlink:href=\"#DejaVuSans-20\"/>\n      <use x=\"889.029297\" xlink:href=\"#DejaVuSans-4d\"/>\n      <use x=\"975.308594\" xlink:href=\"#DejaVuSans-53\"/>\n      <use x=\"1038.785156\" xlink:href=\"#DejaVuSans-45\"/>\n      <use x=\"1101.96875\" xlink:href=\"#DejaVuSans-29\"/>\n     </g>\n    </g>\n   </g>\n   <g id=\"line2d_16\">\n    <path clip-path=\"url(#pb92cb384bc)\" d=\"M 81.826705 17.083636 \nL 85.650368 38.385863 \nL 89.474032 69.929126 \nL 93.297696 106.182592 \nL 97.12136 120.920207 \nL 100.945023 116.873603 \nL 104.768687 115.253986 \nL 108.592351 118.271658 \nL 112.416015 124.427511 \nL 116.239679 133.627384 \nL 120.063342 145.88189 \nL 127.71067 174.950933 \nL 131.534334 187.796818 \nL 135.357997 197.673279 \nL 139.181661 204.411849 \nL 143.005325 208.572794 \nL 146.828989 210.970532 \nL 150.652652 212.289524 \nL 154.476316 212.979461 \nL 158.29998 213.306907 \nL 162.123644 213.427322 \nL 169.770971 213.383533 \nL 185.065626 213.158748 \nL 196.536618 213.186392 \nL 219.4786 213.537549 \nL 250.067911 213.969218 \nL 284.480885 214.191394 \nL 353.306832 214.322863 \nL 685.965581 214.69072 \nL 842.735795 214.756364 \nL 842.735795 214.756364 \n\" style=\"fill:none;stroke:#1f77b4;stroke-linecap:square;stroke-width:1.5;\"/>\n   </g>\n   <g id=\"patch_3\">\n    <path d=\"M 43.78125 224.64 \nL 43.78125 7.2 \n\" style=\"fill:none;stroke:#000000;stroke-linecap:square;stroke-linejoin:miter;stroke-width:0.8;\"/>\n   </g>\n   <g id=\"patch_4\">\n    <path d=\"M 880.78125 224.64 \nL 880.78125 7.2 \n\" style=\"fill:none;stroke:#000000;stroke-linecap:square;stroke-linejoin:miter;stroke-width:0.8;\"/>\n   </g>\n   <g id=\"patch_5\">\n    <path d=\"M 43.78125 224.64 \nL 880.78125 224.64 \n\" style=\"fill:none;stroke:#000000;stroke-linecap:square;stroke-linejoin:miter;stroke-width:0.8;\"/>\n   </g>\n   <g id=\"patch_6\">\n    <path d=\"M 43.78125 7.2 \nL 880.78125 7.2 \n\" style=\"fill:none;stroke:#000000;stroke-linecap:square;stroke-linejoin:miter;stroke-width:0.8;\"/>\n   </g>\n  </g>\n </g>\n <defs>\n  <clipPath id=\"pb92cb384bc\">\n   <rect height=\"217.44\" width=\"837\" x=\"43.78125\" y=\"7.2\"/>\n  </clipPath>\n </defs>\n</svg>\n",
      "image/png": "[encoded data removed]"
     },
     "metadata": {
      "needs_background": "light"
     }
    },
    {
     "output_type": "display_data",
     "data": {
      "text/plain": "<Figure size 1080x288 with 1 Axes>",
      "image/svg+xml": "<?xml version=\"1.0\" encoding=\"utf-8\" standalone=\"no\"?>\n<!DOCTYPE svg PUBLIC \"-//W3C//DTD SVG 1.1//EN\"\n  \"http://www.w3.org/Graphics/SVG/1.1/DTD/svg11.dtd\">\n<svg height=\"262.19625pt\" version=\"1.1\" viewBox=\"0 0 887.98125 262.19625\" width=\"887.98125pt\" xmlns=\"http://www.w3.org/2000/svg\" xmlns:xlink=\"http://www.w3.org/1999/xlink\">\n <metadata>\n  <rdf:RDF xmlns:cc=\"http://creativecommons.org/ns#\" xmlns:dc=\"http://purl.org/dc/elements/1.1/\" xmlns:rdf=\"http://www.w3.org/1999/02/22-rdf-syntax-ns#\">\n   <cc:Work>\n    <dc:type rdf:resource=\"http://purl.org/dc/dcmitype/StillImage\"/>\n    <dc:date>2021-04-27T19:50:21.704483</dc:date>\n    <dc:format>image/svg+xml</dc:format>\n    <dc:creator>\n     <cc:Agent>\n      <dc:title>Matplotlib v3.4.1, https://matplotlib.org/</dc:title>\n     </cc:Agent>\n    </dc:creator>\n   </cc:Work>\n  </rdf:RDF>\n </metadata>\n <defs>\n  <style type=\"text/css\">*{stroke-linecap:butt;stroke-linejoin:round;}</style>\n </defs>\n <g id=\"figure_1\">\n  <g id=\"patch_1\">\n   <path d=\"M 0 262.19625 \nL 887.98125 262.19625 \nL 887.98125 0 \nL 0 0 \nz\n\" style=\"fill:none;\"/>\n  </g>\n  <g id=\"axes_1\">\n   <g id=\"patch_2\">\n    <path d=\"M 43.78125 224.64 \nL 880.78125 224.64 \nL 880.78125 7.2 \nL 43.78125 7.2 \nz\n\" style=\"fill:#ffffff;\"/>\n   </g>\n   <g id=\"matplotlib.axis_1\">\n    <g id=\"xtick_1\">\n     <g id=\"line2d_1\">\n      <defs>\n       <path d=\"M 0 0 \nL 0 3.5 \n\" id=\"mff57f96707\" style=\"stroke:#000000;stroke-width:0.8;\"/>\n      </defs>\n      <g>\n       <use style=\"stroke:#000000;stroke-width:0.8;\" x=\"81.826705\" xlink:href=\"#mff57f96707\" y=\"224.64\"/>\n      </g>\n     </g>\n     <g id=\"text_1\">\n      <!-- 0 -->\n      <g transform=\"translate(78.645455 239.238437)scale(0.1 -0.1)\">\n       <defs>\n        <path d=\"M 2034 4250 \nQ 1547 4250 1301 3770 \nQ 1056 3291 1056 2328 \nQ 1056 1369 1301 889 \nQ 1547 409 2034 409 \nQ 2525 409 2770 889 \nQ 3016 1369 3016 2328 \nQ 3016 3291 2770 3770 \nQ 2525 4250 2034 4250 \nz\nM 2034 4750 \nQ 2819 4750 3233 4129 \nQ 3647 3509 3647 2328 \nQ 3647 1150 3233 529 \nQ 2819 -91 2034 -91 \nQ 1250 -91 836 529 \nQ 422 1150 422 2328 \nQ 422 3509 836 4129 \nQ 1250 4750 2034 4750 \nz\n\" id=\"DejaVuSans-30\" transform=\"scale(0.015625)\"/>\n       </defs>\n       <use xlink:href=\"#DejaVuSans-30\"/>\n      </g>\n     </g>\n    </g>\n    <g id=\"xtick_2\">\n     <g id=\"line2d_2\">\n      <g>\n       <use style=\"stroke:#000000;stroke-width:0.8;\" x=\"177.418299\" xlink:href=\"#mff57f96707\" y=\"224.64\"/>\n      </g>\n     </g>\n     <g id=\"text_2\">\n      <!-- 25 -->\n      <g transform=\"translate(171.055799 239.238437)scale(0.1 -0.1)\">\n       <defs>\n        <path d=\"M 1228 531 \nL 3431 531 \nL 3431 0 \nL 469 0 \nL 469 531 \nQ 828 903 1448 1529 \nQ 2069 2156 2228 2338 \nQ 2531 2678 2651 2914 \nQ 2772 3150 2772 3378 \nQ 2772 3750 2511 3984 \nQ 2250 4219 1831 4219 \nQ 1534 4219 1204 4116 \nQ 875 4013 500 3803 \nL 500 4441 \nQ 881 4594 1212 4672 \nQ 1544 4750 1819 4750 \nQ 2544 4750 2975 4387 \nQ 3406 4025 3406 3419 \nQ 3406 3131 3298 2873 \nQ 3191 2616 2906 2266 \nQ 2828 2175 2409 1742 \nQ 1991 1309 1228 531 \nz\n\" id=\"DejaVuSans-32\" transform=\"scale(0.015625)\"/>\n        <path d=\"M 691 4666 \nL 3169 4666 \nL 3169 4134 \nL 1269 4134 \nL 1269 2991 \nQ 1406 3038 1543 3061 \nQ 1681 3084 1819 3084 \nQ 2600 3084 3056 2656 \nQ 3513 2228 3513 1497 \nQ 3513 744 3044 326 \nQ 2575 -91 1722 -91 \nQ 1428 -91 1123 -41 \nQ 819 9 494 109 \nL 494 744 \nQ 775 591 1075 516 \nQ 1375 441 1709 441 \nQ 2250 441 2565 725 \nQ 2881 1009 2881 1497 \nQ 2881 1984 2565 2268 \nQ 2250 2553 1709 2553 \nQ 1456 2553 1204 2497 \nQ 953 2441 691 2322 \nL 691 4666 \nz\n\" id=\"DejaVuSans-35\" transform=\"scale(0.015625)\"/>\n       </defs>\n       <use xlink:href=\"#DejaVuSans-32\"/>\n       <use x=\"63.623047\" xlink:href=\"#DejaVuSans-35\"/>\n      </g>\n     </g>\n    </g>\n    <g id=\"xtick_3\">\n     <g id=\"line2d_3\">\n      <g>\n       <use style=\"stroke:#000000;stroke-width:0.8;\" x=\"273.009893\" xlink:href=\"#mff57f96707\" y=\"224.64\"/>\n      </g>\n     </g>\n     <g id=\"text_3\">\n      <!-- 50 -->\n      <g transform=\"translate(266.647393 239.238437)scale(0.1 -0.1)\">\n       <use xlink:href=\"#DejaVuSans-35\"/>\n       <use x=\"63.623047\" xlink:href=\"#DejaVuSans-30\"/>\n      </g>\n     </g>\n    </g>\n    <g id=\"xtick_4\">\n     <g id=\"line2d_4\">\n      <g>\n       <use style=\"stroke:#000000;stroke-width:0.8;\" x=\"368.601488\" xlink:href=\"#mff57f96707\" y=\"224.64\"/>\n      </g>\n     </g>\n     <g id=\"text_4\">\n      <!-- 75 -->\n      <g transform=\"translate(362.238988 239.238437)scale(0.1 -0.1)\">\n       <defs>\n        <path d=\"M 525 4666 \nL 3525 4666 \nL 3525 4397 \nL 1831 0 \nL 1172 0 \nL 2766 4134 \nL 525 4134 \nL 525 4666 \nz\n\" id=\"DejaVuSans-37\" transform=\"scale(0.015625)\"/>\n       </defs>\n       <use xlink:href=\"#DejaVuSans-37\"/>\n       <use x=\"63.623047\" xlink:href=\"#DejaVuSans-35\"/>\n      </g>\n     </g>\n    </g>\n    <g id=\"xtick_5\">\n     <g id=\"line2d_5\">\n      <g>\n       <use style=\"stroke:#000000;stroke-width:0.8;\" x=\"464.193082\" xlink:href=\"#mff57f96707\" y=\"224.64\"/>\n      </g>\n     </g>\n     <g id=\"text_5\">\n      <!-- 100 -->\n      <g transform=\"translate(454.649332 239.238437)scale(0.1 -0.1)\">\n       <defs>\n        <path d=\"M 794 531 \nL 1825 531 \nL 1825 4091 \nL 703 3866 \nL 703 4441 \nL 1819 4666 \nL 2450 4666 \nL 2450 531 \nL 3481 531 \nL 3481 0 \nL 794 0 \nL 794 531 \nz\n\" id=\"DejaVuSans-31\" transform=\"scale(0.015625)\"/>\n       </defs>\n       <use xlink:href=\"#DejaVuSans-31\"/>\n       <use x=\"63.623047\" xlink:href=\"#DejaVuSans-30\"/>\n       <use x=\"127.246094\" xlink:href=\"#DejaVuSans-30\"/>\n      </g>\n     </g>\n    </g>\n    <g id=\"xtick_6\">\n     <g id=\"line2d_6\">\n      <g>\n       <use style=\"stroke:#000000;stroke-width:0.8;\" x=\"559.784676\" xlink:href=\"#mff57f96707\" y=\"224.64\"/>\n      </g>\n     </g>\n     <g id=\"text_6\">\n      <!-- 125 -->\n      <g transform=\"translate(550.240926 239.238437)scale(0.1 -0.1)\">\n       <use xlink:href=\"#DejaVuSans-31\"/>\n       <use x=\"63.623047\" xlink:href=\"#DejaVuSans-32\"/>\n       <use x=\"127.246094\" xlink:href=\"#DejaVuSans-35\"/>\n      </g>\n     </g>\n    </g>\n    <g id=\"xtick_7\">\n     <g id=\"line2d_7\">\n      <g>\n       <use style=\"stroke:#000000;stroke-width:0.8;\" x=\"655.376271\" xlink:href=\"#mff57f96707\" y=\"224.64\"/>\n      </g>\n     </g>\n     <g id=\"text_7\">\n      <!-- 150 -->\n      <g transform=\"translate(645.832521 239.238437)scale(0.1 -0.1)\">\n       <use xlink:href=\"#DejaVuSans-31\"/>\n       <use x=\"63.623047\" xlink:href=\"#DejaVuSans-35\"/>\n       <use x=\"127.246094\" xlink:href=\"#DejaVuSans-30\"/>\n      </g>\n     </g>\n    </g>\n    <g id=\"xtick_8\">\n     <g id=\"line2d_8\">\n      <g>\n       <use style=\"stroke:#000000;stroke-width:0.8;\" x=\"750.967865\" xlink:href=\"#mff57f96707\" y=\"224.64\"/>\n      </g>\n     </g>\n     <g id=\"text_8\">\n      <!-- 175 -->\n      <g transform=\"translate(741.424115 239.238437)scale(0.1 -0.1)\">\n       <use xlink:href=\"#DejaVuSans-31\"/>\n       <use x=\"63.623047\" xlink:href=\"#DejaVuSans-37\"/>\n       <use x=\"127.246094\" xlink:href=\"#DejaVuSans-35\"/>\n      </g>\n     </g>\n    </g>\n    <g id=\"xtick_9\">\n     <g id=\"line2d_9\">\n      <g>\n       <use style=\"stroke:#000000;stroke-width:0.8;\" x=\"846.559459\" xlink:href=\"#mff57f96707\" y=\"224.64\"/>\n      </g>\n     </g>\n     <g id=\"text_9\">\n      <!-- 200 -->\n      <g transform=\"translate(837.015709 239.238437)scale(0.1 -0.1)\">\n       <use xlink:href=\"#DejaVuSans-32\"/>\n       <use x=\"63.623047\" xlink:href=\"#DejaVuSans-30\"/>\n       <use x=\"127.246094\" xlink:href=\"#DejaVuSans-30\"/>\n      </g>\n     </g>\n    </g>\n    <g id=\"text_10\">\n     <!-- Epochs -->\n     <g transform=\"translate(444.365625 252.916562)scale(0.1 -0.1)\">\n      <defs>\n       <path d=\"M 628 4666 \nL 3578 4666 \nL 3578 4134 \nL 1259 4134 \nL 1259 2753 \nL 3481 2753 \nL 3481 2222 \nL 1259 2222 \nL 1259 531 \nL 3634 531 \nL 3634 0 \nL 628 0 \nL 628 4666 \nz\n\" id=\"DejaVuSans-45\" transform=\"scale(0.015625)\"/>\n       <path d=\"M 1159 525 \nL 1159 -1331 \nL 581 -1331 \nL 581 3500 \nL 1159 3500 \nL 1159 2969 \nQ 1341 3281 1617 3432 \nQ 1894 3584 2278 3584 \nQ 2916 3584 3314 3078 \nQ 3713 2572 3713 1747 \nQ 3713 922 3314 415 \nQ 2916 -91 2278 -91 \nQ 1894 -91 1617 61 \nQ 1341 213 1159 525 \nz\nM 3116 1747 \nQ 3116 2381 2855 2742 \nQ 2594 3103 2138 3103 \nQ 1681 3103 1420 2742 \nQ 1159 2381 1159 1747 \nQ 1159 1113 1420 752 \nQ 1681 391 2138 391 \nQ 2594 391 2855 752 \nQ 3116 1113 3116 1747 \nz\n\" id=\"DejaVuSans-70\" transform=\"scale(0.015625)\"/>\n       <path d=\"M 1959 3097 \nQ 1497 3097 1228 2736 \nQ 959 2375 959 1747 \nQ 959 1119 1226 758 \nQ 1494 397 1959 397 \nQ 2419 397 2687 759 \nQ 2956 1122 2956 1747 \nQ 2956 2369 2687 2733 \nQ 2419 3097 1959 3097 \nz\nM 1959 3584 \nQ 2709 3584 3137 3096 \nQ 3566 2609 3566 1747 \nQ 3566 888 3137 398 \nQ 2709 -91 1959 -91 \nQ 1206 -91 779 398 \nQ 353 888 353 1747 \nQ 353 2609 779 3096 \nQ 1206 3584 1959 3584 \nz\n\" id=\"DejaVuSans-6f\" transform=\"scale(0.015625)\"/>\n       <path d=\"M 3122 3366 \nL 3122 2828 \nQ 2878 2963 2633 3030 \nQ 2388 3097 2138 3097 \nQ 1578 3097 1268 2742 \nQ 959 2388 959 1747 \nQ 959 1106 1268 751 \nQ 1578 397 2138 397 \nQ 2388 397 2633 464 \nQ 2878 531 3122 666 \nL 3122 134 \nQ 2881 22 2623 -34 \nQ 2366 -91 2075 -91 \nQ 1284 -91 818 406 \nQ 353 903 353 1747 \nQ 353 2603 823 3093 \nQ 1294 3584 2113 3584 \nQ 2378 3584 2631 3529 \nQ 2884 3475 3122 3366 \nz\n\" id=\"DejaVuSans-63\" transform=\"scale(0.015625)\"/>\n       <path d=\"M 3513 2113 \nL 3513 0 \nL 2938 0 \nL 2938 2094 \nQ 2938 2591 2744 2837 \nQ 2550 3084 2163 3084 \nQ 1697 3084 1428 2787 \nQ 1159 2491 1159 1978 \nL 1159 0 \nL 581 0 \nL 581 4863 \nL 1159 4863 \nL 1159 2956 \nQ 1366 3272 1645 3428 \nQ 1925 3584 2291 3584 \nQ 2894 3584 3203 3211 \nQ 3513 2838 3513 2113 \nz\n\" id=\"DejaVuSans-68\" transform=\"scale(0.015625)\"/>\n       <path d=\"M 2834 3397 \nL 2834 2853 \nQ 2591 2978 2328 3040 \nQ 2066 3103 1784 3103 \nQ 1356 3103 1142 2972 \nQ 928 2841 928 2578 \nQ 928 2378 1081 2264 \nQ 1234 2150 1697 2047 \nL 1894 2003 \nQ 2506 1872 2764 1633 \nQ 3022 1394 3022 966 \nQ 3022 478 2636 193 \nQ 2250 -91 1575 -91 \nQ 1294 -91 989 -36 \nQ 684 19 347 128 \nL 347 722 \nQ 666 556 975 473 \nQ 1284 391 1588 391 \nQ 1994 391 2212 530 \nQ 2431 669 2431 922 \nQ 2431 1156 2273 1281 \nQ 2116 1406 1581 1522 \nL 1381 1569 \nQ 847 1681 609 1914 \nQ 372 2147 372 2553 \nQ 372 3047 722 3315 \nQ 1072 3584 1716 3584 \nQ 2034 3584 2315 3537 \nQ 2597 3491 2834 3397 \nz\n\" id=\"DejaVuSans-73\" transform=\"scale(0.015625)\"/>\n      </defs>\n      <use xlink:href=\"#DejaVuSans-45\"/>\n      <use x=\"63.183594\" xlink:href=\"#DejaVuSans-70\"/>\n      <use x=\"126.660156\" xlink:href=\"#DejaVuSans-6f\"/>\n      <use x=\"187.841797\" xlink:href=\"#DejaVuSans-63\"/>\n      <use x=\"242.822266\" xlink:href=\"#DejaVuSans-68\"/>\n      <use x=\"306.201172\" xlink:href=\"#DejaVuSans-73\"/>\n     </g>\n    </g>\n   </g>\n   <g id=\"matplotlib.axis_2\">\n    <g id=\"ytick_1\">\n     <g id=\"line2d_10\">\n      <defs>\n       <path d=\"M 0 0 \nL -3.5 0 \n\" id=\"m3c12ea3069\" style=\"stroke:#000000;stroke-width:0.8;\"/>\n      </defs>\n      <g>\n       <use style=\"stroke:#000000;stroke-width:0.8;\" x=\"43.78125\" xlink:href=\"#m3c12ea3069\" y=\"197.639278\"/>\n      </g>\n     </g>\n     <g id=\"text_11\">\n      <!-- 0.3 -->\n      <g transform=\"translate(20.878125 201.438497)scale(0.1 -0.1)\">\n       <defs>\n        <path d=\"M 684 794 \nL 1344 794 \nL 1344 0 \nL 684 0 \nL 684 794 \nz\n\" id=\"DejaVuSans-2e\" transform=\"scale(0.015625)\"/>\n        <path d=\"M 2597 2516 \nQ 3050 2419 3304 2112 \nQ 3559 1806 3559 1356 \nQ 3559 666 3084 287 \nQ 2609 -91 1734 -91 \nQ 1441 -91 1130 -33 \nQ 819 25 488 141 \nL 488 750 \nQ 750 597 1062 519 \nQ 1375 441 1716 441 \nQ 2309 441 2620 675 \nQ 2931 909 2931 1356 \nQ 2931 1769 2642 2001 \nQ 2353 2234 1838 2234 \nL 1294 2234 \nL 1294 2753 \nL 1863 2753 \nQ 2328 2753 2575 2939 \nQ 2822 3125 2822 3475 \nQ 2822 3834 2567 4026 \nQ 2313 4219 1838 4219 \nQ 1578 4219 1281 4162 \nQ 984 4106 628 3988 \nL 628 4550 \nQ 988 4650 1302 4700 \nQ 1616 4750 1894 4750 \nQ 2613 4750 3031 4423 \nQ 3450 4097 3450 3541 \nQ 3450 3153 3228 2886 \nQ 3006 2619 2597 2516 \nz\n\" id=\"DejaVuSans-33\" transform=\"scale(0.015625)\"/>\n       </defs>\n       <use xlink:href=\"#DejaVuSans-30\"/>\n       <use x=\"63.623047\" xlink:href=\"#DejaVuSans-2e\"/>\n       <use x=\"95.410156\" xlink:href=\"#DejaVuSans-33\"/>\n      </g>\n     </g>\n    </g>\n    <g id=\"ytick_2\">\n     <g id=\"line2d_11\">\n      <g>\n       <use style=\"stroke:#000000;stroke-width:0.8;\" x=\"43.78125\" xlink:href=\"#m3c12ea3069\" y=\"169.73384\"/>\n      </g>\n     </g>\n     <g id=\"text_12\">\n      <!-- 0.4 -->\n      <g transform=\"translate(20.878125 173.533059)scale(0.1 -0.1)\">\n       <defs>\n        <path d=\"M 2419 4116 \nL 825 1625 \nL 2419 1625 \nL 2419 4116 \nz\nM 2253 4666 \nL 3047 4666 \nL 3047 1625 \nL 3713 1625 \nL 3713 1100 \nL 3047 1100 \nL 3047 0 \nL 2419 0 \nL 2419 1100 \nL 313 1100 \nL 313 1709 \nL 2253 4666 \nz\n\" id=\"DejaVuSans-34\" transform=\"scale(0.015625)\"/>\n       </defs>\n       <use xlink:href=\"#DejaVuSans-30\"/>\n       <use x=\"63.623047\" xlink:href=\"#DejaVuSans-2e\"/>\n       <use x=\"95.410156\" xlink:href=\"#DejaVuSans-34\"/>\n      </g>\n     </g>\n    </g>\n    <g id=\"ytick_3\">\n     <g id=\"line2d_12\">\n      <g>\n       <use style=\"stroke:#000000;stroke-width:0.8;\" x=\"43.78125\" xlink:href=\"#m3c12ea3069\" y=\"141.828403\"/>\n      </g>\n     </g>\n     <g id=\"text_13\">\n      <!-- 0.5 -->\n      <g transform=\"translate(20.878125 145.627621)scale(0.1 -0.1)\">\n       <use xlink:href=\"#DejaVuSans-30\"/>\n       <use x=\"63.623047\" xlink:href=\"#DejaVuSans-2e\"/>\n       <use x=\"95.410156\" xlink:href=\"#DejaVuSans-35\"/>\n      </g>\n     </g>\n    </g>\n    <g id=\"ytick_4\">\n     <g id=\"line2d_13\">\n      <g>\n       <use style=\"stroke:#000000;stroke-width:0.8;\" x=\"43.78125\" xlink:href=\"#m3c12ea3069\" y=\"113.922965\"/>\n      </g>\n     </g>\n     <g id=\"text_14\">\n      <!-- 0.6 -->\n      <g transform=\"translate(20.878125 117.722183)scale(0.1 -0.1)\">\n       <defs>\n        <path d=\"M 2113 2584 \nQ 1688 2584 1439 2293 \nQ 1191 2003 1191 1497 \nQ 1191 994 1439 701 \nQ 1688 409 2113 409 \nQ 2538 409 2786 701 \nQ 3034 994 3034 1497 \nQ 3034 2003 2786 2293 \nQ 2538 2584 2113 2584 \nz\nM 3366 4563 \nL 3366 3988 \nQ 3128 4100 2886 4159 \nQ 2644 4219 2406 4219 \nQ 1781 4219 1451 3797 \nQ 1122 3375 1075 2522 \nQ 1259 2794 1537 2939 \nQ 1816 3084 2150 3084 \nQ 2853 3084 3261 2657 \nQ 3669 2231 3669 1497 \nQ 3669 778 3244 343 \nQ 2819 -91 2113 -91 \nQ 1303 -91 875 529 \nQ 447 1150 447 2328 \nQ 447 3434 972 4092 \nQ 1497 4750 2381 4750 \nQ 2619 4750 2861 4703 \nQ 3103 4656 3366 4563 \nz\n\" id=\"DejaVuSans-36\" transform=\"scale(0.015625)\"/>\n       </defs>\n       <use xlink:href=\"#DejaVuSans-30\"/>\n       <use x=\"63.623047\" xlink:href=\"#DejaVuSans-2e\"/>\n       <use x=\"95.410156\" xlink:href=\"#DejaVuSans-36\"/>\n      </g>\n     </g>\n    </g>\n    <g id=\"ytick_5\">\n     <g id=\"line2d_14\">\n      <g>\n       <use style=\"stroke:#000000;stroke-width:0.8;\" x=\"43.78125\" xlink:href=\"#m3c12ea3069\" y=\"86.017527\"/>\n      </g>\n     </g>\n     <g id=\"text_15\">\n      <!-- 0.7 -->\n      <g transform=\"translate(20.878125 89.816746)scale(0.1 -0.1)\">\n       <use xlink:href=\"#DejaVuSans-30\"/>\n       <use x=\"63.623047\" xlink:href=\"#DejaVuSans-2e\"/>\n       <use x=\"95.410156\" xlink:href=\"#DejaVuSans-37\"/>\n      </g>\n     </g>\n    </g>\n    <g id=\"ytick_6\">\n     <g id=\"line2d_15\">\n      <g>\n       <use style=\"stroke:#000000;stroke-width:0.8;\" x=\"43.78125\" xlink:href=\"#m3c12ea3069\" y=\"58.112089\"/>\n      </g>\n     </g>\n     <g id=\"text_16\">\n      <!-- 0.8 -->\n      <g transform=\"translate(20.878125 61.911308)scale(0.1 -0.1)\">\n       <defs>\n        <path d=\"M 2034 2216 \nQ 1584 2216 1326 1975 \nQ 1069 1734 1069 1313 \nQ 1069 891 1326 650 \nQ 1584 409 2034 409 \nQ 2484 409 2743 651 \nQ 3003 894 3003 1313 \nQ 3003 1734 2745 1975 \nQ 2488 2216 2034 2216 \nz\nM 1403 2484 \nQ 997 2584 770 2862 \nQ 544 3141 544 3541 \nQ 544 4100 942 4425 \nQ 1341 4750 2034 4750 \nQ 2731 4750 3128 4425 \nQ 3525 4100 3525 3541 \nQ 3525 3141 3298 2862 \nQ 3072 2584 2669 2484 \nQ 3125 2378 3379 2068 \nQ 3634 1759 3634 1313 \nQ 3634 634 3220 271 \nQ 2806 -91 2034 -91 \nQ 1263 -91 848 271 \nQ 434 634 434 1313 \nQ 434 1759 690 2068 \nQ 947 2378 1403 2484 \nz\nM 1172 3481 \nQ 1172 3119 1398 2916 \nQ 1625 2713 2034 2713 \nQ 2441 2713 2670 2916 \nQ 2900 3119 2900 3481 \nQ 2900 3844 2670 4047 \nQ 2441 4250 2034 4250 \nQ 1625 4250 1398 4047 \nQ 1172 3844 1172 3481 \nz\n\" id=\"DejaVuSans-38\" transform=\"scale(0.015625)\"/>\n       </defs>\n       <use xlink:href=\"#DejaVuSans-30\"/>\n       <use x=\"63.623047\" xlink:href=\"#DejaVuSans-2e\"/>\n       <use x=\"95.410156\" xlink:href=\"#DejaVuSans-38\"/>\n      </g>\n     </g>\n    </g>\n    <g id=\"ytick_7\">\n     <g id=\"line2d_16\">\n      <g>\n       <use style=\"stroke:#000000;stroke-width:0.8;\" x=\"43.78125\" xlink:href=\"#m3c12ea3069\" y=\"30.206651\"/>\n      </g>\n     </g>\n     <g id=\"text_17\">\n      <!-- 0.9 -->\n      <g transform=\"translate(20.878125 34.00587)scale(0.1 -0.1)\">\n       <defs>\n        <path d=\"M 703 97 \nL 703 672 \nQ 941 559 1184 500 \nQ 1428 441 1663 441 \nQ 2288 441 2617 861 \nQ 2947 1281 2994 2138 \nQ 2813 1869 2534 1725 \nQ 2256 1581 1919 1581 \nQ 1219 1581 811 2004 \nQ 403 2428 403 3163 \nQ 403 3881 828 4315 \nQ 1253 4750 1959 4750 \nQ 2769 4750 3195 4129 \nQ 3622 3509 3622 2328 \nQ 3622 1225 3098 567 \nQ 2575 -91 1691 -91 \nQ 1453 -91 1209 -44 \nQ 966 3 703 97 \nz\nM 1959 2075 \nQ 2384 2075 2632 2365 \nQ 2881 2656 2881 3163 \nQ 2881 3666 2632 3958 \nQ 2384 4250 1959 4250 \nQ 1534 4250 1286 3958 \nQ 1038 3666 1038 3163 \nQ 1038 2656 1286 2365 \nQ 1534 2075 1959 2075 \nz\n\" id=\"DejaVuSans-39\" transform=\"scale(0.015625)\"/>\n       </defs>\n       <use xlink:href=\"#DejaVuSans-30\"/>\n       <use x=\"63.623047\" xlink:href=\"#DejaVuSans-2e\"/>\n       <use x=\"95.410156\" xlink:href=\"#DejaVuSans-39\"/>\n      </g>\n     </g>\n    </g>\n    <g id=\"text_18\">\n     <!-- Gradient L2 norm -->\n     <g transform=\"translate(14.798438 159.894219)rotate(-90)scale(0.1 -0.1)\">\n      <defs>\n       <path d=\"M 3809 666 \nL 3809 1919 \nL 2778 1919 \nL 2778 2438 \nL 4434 2438 \nL 4434 434 \nQ 4069 175 3628 42 \nQ 3188 -91 2688 -91 \nQ 1594 -91 976 548 \nQ 359 1188 359 2328 \nQ 359 3472 976 4111 \nQ 1594 4750 2688 4750 \nQ 3144 4750 3555 4637 \nQ 3966 4525 4313 4306 \nL 4313 3634 \nQ 3963 3931 3569 4081 \nQ 3175 4231 2741 4231 \nQ 1884 4231 1454 3753 \nQ 1025 3275 1025 2328 \nQ 1025 1384 1454 906 \nQ 1884 428 2741 428 \nQ 3075 428 3337 486 \nQ 3600 544 3809 666 \nz\n\" id=\"DejaVuSans-47\" transform=\"scale(0.015625)\"/>\n       <path d=\"M 2631 2963 \nQ 2534 3019 2420 3045 \nQ 2306 3072 2169 3072 \nQ 1681 3072 1420 2755 \nQ 1159 2438 1159 1844 \nL 1159 0 \nL 581 0 \nL 581 3500 \nL 1159 3500 \nL 1159 2956 \nQ 1341 3275 1631 3429 \nQ 1922 3584 2338 3584 \nQ 2397 3584 2469 3576 \nQ 2541 3569 2628 3553 \nL 2631 2963 \nz\n\" id=\"DejaVuSans-72\" transform=\"scale(0.015625)\"/>\n       <path d=\"M 2194 1759 \nQ 1497 1759 1228 1600 \nQ 959 1441 959 1056 \nQ 959 750 1161 570 \nQ 1363 391 1709 391 \nQ 2188 391 2477 730 \nQ 2766 1069 2766 1631 \nL 2766 1759 \nL 2194 1759 \nz\nM 3341 1997 \nL 3341 0 \nL 2766 0 \nL 2766 531 \nQ 2569 213 2275 61 \nQ 1981 -91 1556 -91 \nQ 1019 -91 701 211 \nQ 384 513 384 1019 \nQ 384 1609 779 1909 \nQ 1175 2209 1959 2209 \nL 2766 2209 \nL 2766 2266 \nQ 2766 2663 2505 2880 \nQ 2244 3097 1772 3097 \nQ 1472 3097 1187 3025 \nQ 903 2953 641 2809 \nL 641 3341 \nQ 956 3463 1253 3523 \nQ 1550 3584 1831 3584 \nQ 2591 3584 2966 3190 \nQ 3341 2797 3341 1997 \nz\n\" id=\"DejaVuSans-61\" transform=\"scale(0.015625)\"/>\n       <path d=\"M 2906 2969 \nL 2906 4863 \nL 3481 4863 \nL 3481 0 \nL 2906 0 \nL 2906 525 \nQ 2725 213 2448 61 \nQ 2172 -91 1784 -91 \nQ 1150 -91 751 415 \nQ 353 922 353 1747 \nQ 353 2572 751 3078 \nQ 1150 3584 1784 3584 \nQ 2172 3584 2448 3432 \nQ 2725 3281 2906 2969 \nz\nM 947 1747 \nQ 947 1113 1208 752 \nQ 1469 391 1925 391 \nQ 2381 391 2643 752 \nQ 2906 1113 2906 1747 \nQ 2906 2381 2643 2742 \nQ 2381 3103 1925 3103 \nQ 1469 3103 1208 2742 \nQ 947 2381 947 1747 \nz\n\" id=\"DejaVuSans-64\" transform=\"scale(0.015625)\"/>\n       <path d=\"M 603 3500 \nL 1178 3500 \nL 1178 0 \nL 603 0 \nL 603 3500 \nz\nM 603 4863 \nL 1178 4863 \nL 1178 4134 \nL 603 4134 \nL 603 4863 \nz\n\" id=\"DejaVuSans-69\" transform=\"scale(0.015625)\"/>\n       <path d=\"M 3597 1894 \nL 3597 1613 \nL 953 1613 \nQ 991 1019 1311 708 \nQ 1631 397 2203 397 \nQ 2534 397 2845 478 \nQ 3156 559 3463 722 \nL 3463 178 \nQ 3153 47 2828 -22 \nQ 2503 -91 2169 -91 \nQ 1331 -91 842 396 \nQ 353 884 353 1716 \nQ 353 2575 817 3079 \nQ 1281 3584 2069 3584 \nQ 2775 3584 3186 3129 \nQ 3597 2675 3597 1894 \nz\nM 3022 2063 \nQ 3016 2534 2758 2815 \nQ 2500 3097 2075 3097 \nQ 1594 3097 1305 2825 \nQ 1016 2553 972 2059 \nL 3022 2063 \nz\n\" id=\"DejaVuSans-65\" transform=\"scale(0.015625)\"/>\n       <path d=\"M 3513 2113 \nL 3513 0 \nL 2938 0 \nL 2938 2094 \nQ 2938 2591 2744 2837 \nQ 2550 3084 2163 3084 \nQ 1697 3084 1428 2787 \nQ 1159 2491 1159 1978 \nL 1159 0 \nL 581 0 \nL 581 3500 \nL 1159 3500 \nL 1159 2956 \nQ 1366 3272 1645 3428 \nQ 1925 3584 2291 3584 \nQ 2894 3584 3203 3211 \nQ 3513 2838 3513 2113 \nz\n\" id=\"DejaVuSans-6e\" transform=\"scale(0.015625)\"/>\n       <path d=\"M 1172 4494 \nL 1172 3500 \nL 2356 3500 \nL 2356 3053 \nL 1172 3053 \nL 1172 1153 \nQ 1172 725 1289 603 \nQ 1406 481 1766 481 \nL 2356 481 \nL 2356 0 \nL 1766 0 \nQ 1100 0 847 248 \nQ 594 497 594 1153 \nL 594 3053 \nL 172 3053 \nL 172 3500 \nL 594 3500 \nL 594 4494 \nL 1172 4494 \nz\n\" id=\"DejaVuSans-74\" transform=\"scale(0.015625)\"/>\n       <path id=\"DejaVuSans-20\" transform=\"scale(0.015625)\"/>\n       <path d=\"M 628 4666 \nL 1259 4666 \nL 1259 531 \nL 3531 531 \nL 3531 0 \nL 628 0 \nL 628 4666 \nz\n\" id=\"DejaVuSans-4c\" transform=\"scale(0.015625)\"/>\n       <path d=\"M 3328 2828 \nQ 3544 3216 3844 3400 \nQ 4144 3584 4550 3584 \nQ 5097 3584 5394 3201 \nQ 5691 2819 5691 2113 \nL 5691 0 \nL 5113 0 \nL 5113 2094 \nQ 5113 2597 4934 2840 \nQ 4756 3084 4391 3084 \nQ 3944 3084 3684 2787 \nQ 3425 2491 3425 1978 \nL 3425 0 \nL 2847 0 \nL 2847 2094 \nQ 2847 2600 2669 2842 \nQ 2491 3084 2119 3084 \nQ 1678 3084 1418 2786 \nQ 1159 2488 1159 1978 \nL 1159 0 \nL 581 0 \nL 581 3500 \nL 1159 3500 \nL 1159 2956 \nQ 1356 3278 1631 3431 \nQ 1906 3584 2284 3584 \nQ 2666 3584 2933 3390 \nQ 3200 3197 3328 2828 \nz\n\" id=\"DejaVuSans-6d\" transform=\"scale(0.015625)\"/>\n      </defs>\n      <use xlink:href=\"#DejaVuSans-47\"/>\n      <use x=\"77.490234\" xlink:href=\"#DejaVuSans-72\"/>\n      <use x=\"118.603516\" xlink:href=\"#DejaVuSans-61\"/>\n      <use x=\"179.882812\" xlink:href=\"#DejaVuSans-64\"/>\n      <use x=\"243.359375\" xlink:href=\"#DejaVuSans-69\"/>\n      <use x=\"271.142578\" xlink:href=\"#DejaVuSans-65\"/>\n      <use x=\"332.666016\" xlink:href=\"#DejaVuSans-6e\"/>\n      <use x=\"396.044922\" xlink:href=\"#DejaVuSans-74\"/>\n      <use x=\"435.253906\" xlink:href=\"#DejaVuSans-20\"/>\n      <use x=\"467.041016\" xlink:href=\"#DejaVuSans-4c\"/>\n      <use x=\"522.753906\" xlink:href=\"#DejaVuSans-32\"/>\n      <use x=\"586.376953\" xlink:href=\"#DejaVuSans-20\"/>\n      <use x=\"618.164062\" xlink:href=\"#DejaVuSans-6e\"/>\n      <use x=\"681.542969\" xlink:href=\"#DejaVuSans-6f\"/>\n      <use x=\"742.724609\" xlink:href=\"#DejaVuSans-72\"/>\n      <use x=\"782.087891\" xlink:href=\"#DejaVuSans-6d\"/>\n     </g>\n    </g>\n   </g>\n   <g id=\"line2d_17\">\n    <path clip-path=\"url(#p9505926129)\" d=\"M 81.826705 81.344956 \nL 85.650368 96.138722 \nL 89.474032 91.049642 \nL 93.297696 44.858512 \nL 97.12136 17.083636 \nL 100.945023 41.666851 \nL 104.768687 54.376378 \nL 108.592351 57.497781 \nL 112.416015 59.288833 \nL 116.239679 65.981162 \nL 120.063342 85.63958 \nL 123.887006 124.436438 \nL 127.71067 172.873622 \nL 131.534334 202.594144 \nL 135.357997 203.387443 \nL 139.181661 194.15129 \nL 143.005325 186.788645 \nL 146.828989 184.164367 \nL 150.652652 185.664633 \nL 154.476316 189.732151 \nL 162.123644 200.319032 \nL 165.947308 205.172274 \nL 169.770971 209.135121 \nL 173.594635 212.038504 \nL 177.418299 213.87177 \nL 181.241963 214.727967 \nL 185.065626 214.756364 \nL 188.88929 214.123123 \nL 192.712954 212.991409 \nL 196.536618 211.506105 \nL 200.360282 209.788954 \nL 208.007609 206.024662 \nL 219.4786 200.361197 \nL 227.125928 196.886235 \nL 234.773255 193.770903 \nL 242.420583 191.071269 \nL 250.067911 188.803568 \nL 257.715238 186.946966 \nL 265.362566 185.451075 \nL 273.009893 184.249844 \nL 280.657221 183.281516 \nL 288.304548 182.493638 \nL 299.77554 181.568864 \nL 311.246531 180.868767 \nL 326.541186 180.160195 \nL 341.835841 179.630661 \nL 357.130496 179.29836 \nL 372.425151 179.187426 \nL 391.54347 179.309529 \nL 418.309117 179.775833 \nL 525.371702 181.966715 \nL 582.726659 182.662405 \nL 628.610624 183.402787 \nL 666.847262 183.784712 \nL 720.378555 184.065992 \nL 842.735795 184.50708 \nL 842.735795 184.50708 \n\" style=\"fill:none;stroke:#1f77b4;stroke-linecap:square;stroke-width:1.5;\"/>\n   </g>\n   <g id=\"patch_3\">\n    <path d=\"M 43.78125 224.64 \nL 43.78125 7.2 \n\" style=\"fill:none;stroke:#000000;stroke-linecap:square;stroke-linejoin:miter;stroke-width:0.8;\"/>\n   </g>\n   <g id=\"patch_4\">\n    <path d=\"M 880.78125 224.64 \nL 880.78125 7.2 \n\" style=\"fill:none;stroke:#000000;stroke-linecap:square;stroke-linejoin:miter;stroke-width:0.8;\"/>\n   </g>\n   <g id=\"patch_5\">\n    <path d=\"M 43.78125 224.64 \nL 880.78125 224.64 \n\" style=\"fill:none;stroke:#000000;stroke-linecap:square;stroke-linejoin:miter;stroke-width:0.8;\"/>\n   </g>\n   <g id=\"patch_6\">\n    <path d=\"M 43.78125 7.2 \nL 880.78125 7.2 \n\" style=\"fill:none;stroke:#000000;stroke-linecap:square;stroke-linejoin:miter;stroke-width:0.8;\"/>\n   </g>\n  </g>\n </g>\n <defs>\n  <clipPath id=\"p9505926129\">\n   <rect height=\"217.44\" width=\"837\" x=\"43.78125\" y=\"7.2\"/>\n  </clipPath>\n </defs>\n</svg>\n",
      "image/png": "[encoded data removed]"
     },
     "metadata": {
      "needs_background": "light"
     }
    }
   ],
   "source": [
    "import matplotlib.pyplot as plt\r\n",
    "\r\n",
    "plt.figure()\r\n",
    "plt.plot(loss_history.cpu())\r\n",
    "plt.xlabel('Epochs')\r\n",
    "plt.ylabel('Loss (Normalized MSE)')\r\n",
    "\r\n",
    "plt.figure()\r\n",
    "plt.plot(gradient_norm_history.cpu())\r\n",
    "plt.xlabel('Epochs')\r\n",
    "plt.ylabel('Gradient L2 norm')"
   ]
  },
  {
   "cell_type": "code",
   "execution_count": 17,
   "metadata": {},
   "outputs": [],
   "source": [
    "PATH = './diode_clipper_2x8tanhRNN.pth'"
   ]
  },
  {
   "cell_type": "code",
   "execution_count": 18,
   "metadata": {},
   "outputs": [],
   "source": [
    "torch.save(stn.state_dict(), PATH)"
   ]
  },
  {
   "cell_type": "code",
   "execution_count": 19,
   "metadata": {},
   "outputs": [
    {
     "output_type": "execute_result",
     "data": {
      "text/plain": [
       "<All keys matched successfully>"
      ]
     },
     "metadata": {},
     "execution_count": 19
    }
   ],
   "source": [
    "stn.load_state_dict(torch.load(PATH))"
   ]
  },
  {
   "cell_type": "code",
   "execution_count": 21,
   "metadata": {
    "tags": []
   },
   "outputs": [
    {
     "output_type": "stream",
     "name": "stdout",
     "text": [
      "Processing test data...\n",
      "100%|██████████| 3955706/3955706 [07:12<00:00, 9155.82it/s]Test loss: 0.12799\n",
      "\n"
     ]
    }
   ],
   "source": [
    "from tqdm import tqdm\n",
    "\n",
    "# 1 batch, 1-element sequence, 2 variables (input and state, i.e., previous output)\n",
    "stn = stn.cpu()\n",
    "input_vector = torch.zeros((1, 1, 2), dtype=torch.float)\n",
    "output_vector = torch.zeros((1, 1, 1), dtype=torch.float)\n",
    "test_output = torch.zeros_like(test_input_waveform.to('cpu'))\n",
    "\n",
    "print('Processing test data...')\n",
    "\n",
    "with torch.no_grad():\n",
    "    for i, sample in tqdm(enumerate(test_input_waveform), total=test_input_waveform.shape[0]):\n",
    "        input_vector[0, 0, 0] = sample\n",
    "        input_vector[0, 0, 1] = output_vector[0, 0, 0]\n",
    "\n",
    "        output_vector = stn(input_vector)\n",
    "\n",
    "        test_output[i] = output_vector[0, 0, 0]\n",
    "\n",
    "    test_loss = criterion(test_output, test_target_waveform)\n",
    "    print(f'Test loss: {test_loss:.5f}')"
   ]
  },
  {
   "cell_type": "code",
   "execution_count": 22,
   "metadata": {},
   "outputs": [
    {
     "output_type": "stream",
     "name": "stdout",
     "text": [
      "Shape: (1, 3955706)\nDtype: torch.float32\n - Max:      2.454\n - Min:     -2.457\n - Mean:     0.022\n - Std Dev:  0.714\n\ntensor([[ 0.0019, -0.0016,  0.0005,  ..., -0.0021,  0.0009, -0.0021]])\n\nShape: (1, 3955706)\nDtype: torch.float32\n - Max:      1.000\n - Min:     -1.000\n - Mean:     0.019\n - Std Dev:  0.661\n\ntensor([[ 0.0019, -0.0016,  0.0005,  ..., -0.0021,  0.0009, -0.0021]])\n\n"
     ]
    }
   ],
   "source": [
    "print_stats(test_output.unsqueeze(0))\n",
    "test_output = torch.clamp(test_output, -1., 1.)\n",
    "print_stats(test_output.unsqueeze(0))\n",
    "torchaudio.save('./test_output.wav', test_output.unsqueeze(0), sample_rate)"
   ]
  },
  {
   "cell_type": "code",
   "execution_count": null,
   "metadata": {},
   "outputs": [],
   "source": []
  }
 ]
}